{
 "cells": [
  {
   "cell_type": "code",
   "execution_count": 1,
   "metadata": {},
   "outputs": [],
   "source": [
    "import math\n",
    "from math import floor\n",
    "import random\n",
    "from collections import defaultdict\n",
    "import itertools"
   ]
  },
  {
   "cell_type": "code",
   "execution_count": 2,
   "metadata": {},
   "outputs": [],
   "source": [
    "#Returns a Vector from a list\n",
    "\n",
    "class Vector(object):\n",
    "\n",
    "    def __init__(self, components):\n",
    "        if not isinstance(components, tuple) and not isinstance(components, list):\n",
    "            raise ValueError(\"Components must be a tuple or list.\")\n",
    "        if len(components) == 0:\n",
    "            raise ValueError(\"Components must be at least 1-dimensional.\")\n",
    "        self.dimensions = len(components)\n",
    "        self.components = components\n",
    "\n",
    "    def __getitem__(self, key):\n",
    "        return self.components[key]\n",
    "\n",
    "    def __str__(self):\n",
    "        return self.components.__str__()\n",
    "\n",
    "    def __len__(self):\n",
    "        return self.dimensions"
   ]
  },
  {
   "cell_type": "code",
   "execution_count": 3,
   "metadata": {},
   "outputs": [],
   "source": [
    "# Measures square of euclidian distance for a nD vector\n",
    "\n",
    "def cheap_dist(v1, v2):\n",
    "    comps1 = v1.components\n",
    "    comps2 = v2.components\n",
    "    max_dimensions = max(v1.dimensions, v2.dimensions)\n",
    "    dist = 0.0\n",
    "    for i in range(0, max_dimensions):\n",
    "        dist += math.pow(v1[i]-v2[i] , 2)\n",
    "    return dist"
   ]
  },
  {
   "cell_type": "code",
   "execution_count": 4,
   "metadata": {},
   "outputs": [],
   "source": [
    "# Measures euclidian distance for a nD vector\n",
    "\n",
    "def dist(v1, v2):\n",
    "    return math.sqrt(cheap_dist(v1,v2))"
   ]
  },
  {
   "cell_type": "code",
   "execution_count": 5,
   "metadata": {},
   "outputs": [],
   "source": [
    "#example :\n",
    "\n",
    "\n",
    "pts = [\n",
    "        Vector([4,3,16,5,5]),\n",
    "        Vector([230,423,150,2,180]),\n",
    "        Vector([123,500,400,302,405]),\n",
    "        Vector([6,4,10,8,105]),\n",
    "        Vector([123,432,432,8,451]),\n",
    "        Vector([14,113,116,51,51])\n",
    "    ]"
   ]
  },
  {
   "cell_type": "code",
   "execution_count": 6,
   "metadata": {},
   "outputs": [
    {
     "data": {
      "text/plain": [
       "525.4198321342658"
      ]
     },
     "execution_count": 6,
     "metadata": {},
     "output_type": "execute_result"
    }
   ],
   "source": [
    "dist(pts[0],pts[1])"
   ]
  },
  {
   "cell_type": "code",
   "execution_count": 7,
   "metadata": {},
   "outputs": [],
   "source": [
    "n  = len(pts)\n",
    "mat_n = [[-1 for j in range(n)] for i in range(n)]"
   ]
  },
  {
   "cell_type": "code",
   "execution_count": 8,
   "metadata": {},
   "outputs": [
    {
     "name": "stdout",
     "output_type": "stream",
     "text": [
      "Distance between Point1 and Point1 is = 0\n",
      "Distance between Point1 and Point2 is = 525\n",
      "Distance between Point1 and Point3 is = 810\n",
      "Distance between Point1 and Point4 is = 100\n",
      "Distance between Point1 and Point5 is = 755\n",
      "Distance between Point1 and Point6 is = 162\n",
      "Distance between Point2 and Point2 is = 0\n",
      "Distance between Point2 and Point3 is = 469\n",
      "Distance between Point2 and Point4 is = 500\n",
      "Distance between Point2 and Point5 is = 405\n",
      "Distance between Point2 and Point6 is = 403\n",
      "Distance between Point3 and Point3 is = 0\n",
      "Distance between Point3 and Point4 is = 766\n",
      "Distance between Point3 and Point5 is = 306\n",
      "Distance between Point3 and Point6 is = 656\n",
      "Distance between Point4 and Point4 is = 0\n",
      "Distance between Point4 and Point5 is = 703\n",
      "Distance between Point4 and Point6 is = 167\n",
      "Distance between Point5 and Point5 is = 0\n",
      "Distance between Point5 and Point6 is = 612\n",
      "Distance between Point6 and Point6 is = 0\n"
     ]
    }
   ],
   "source": [
    "for i in range(len(mat_n)):\n",
    "    for j in range (i,len(mat_n)):\n",
    "        mat_n[i][j] = int(dist(pts[i],pts[j]))\n",
    "        print(\"Distance between Point{} and Point{} is = {}\".format(i+1,j+1,mat_n[i][j]))\n",
    "        "
   ]
  },
  {
   "cell_type": "code",
   "execution_count": 9,
   "metadata": {},
   "outputs": [
    {
     "data": {
      "text/plain": [
       "[[0, 525, 810, 100, 755, 162],\n",
       " [-1, 0, 469, 500, 405, 403],\n",
       " [-1, -1, 0, 766, 306, 656],\n",
       " [-1, -1, -1, 0, 703, 167],\n",
       " [-1, -1, -1, -1, 0, 612],\n",
       " [-1, -1, -1, -1, -1, 0]]"
      ]
     },
     "execution_count": 9,
     "metadata": {},
     "output_type": "execute_result"
    }
   ],
   "source": [
    "mat_n"
   ]
  },
  {
   "cell_type": "code",
   "execution_count": 82,
   "metadata": {},
   "outputs": [],
   "source": [
    "def dist_matrix(points) : \n",
    "    n  = len(points)\n",
    "    max_dist = 0.0\n",
    "    min_dist = 10\n",
    "    dist_mat = [[-1 for j in range(n)] for i in range(n)]\n",
    "    for i in range(len(dist_mat)):\n",
    "        for j in range (i,len(dist_mat)):\n",
    "            dist_mat[i][j] = dist(points[i],points[j])\n",
    "            if dist_mat[i][j] >= max_dist and dist_mat[i][j] > 0.0:\n",
    "                max_dist = dist_mat[i][j]\n",
    "            elif dist_mat[i][j] <= min_dist:\n",
    "                min_dist = dist_mat[i][j]\n",
    "                \n",
    "    return dist_mat,max_dist,min_dist\n",
    "    \n",
    "    "
   ]
  },
  {
   "cell_type": "code",
   "execution_count": 83,
   "metadata": {},
   "outputs": [],
   "source": [
    "g,h,p = dist_matrix(dataset)"
   ]
  },
  {
   "cell_type": "code",
   "execution_count": 85,
   "metadata": {},
   "outputs": [
    {
     "data": {
      "text/plain": [
       "0.0"
      ]
     },
     "execution_count": 85,
     "metadata": {},
     "output_type": "execute_result"
    }
   ],
   "source": [
    "p"
   ]
  },
  {
   "cell_type": "code",
   "execution_count": 12,
   "metadata": {},
   "outputs": [],
   "source": [
    "#data load\n",
    "\n",
    "import numpy as np\n",
    "import pandas as pd\n",
    "from csv import reader"
   ]
  },
  {
   "cell_type": "code",
   "execution_count": 13,
   "metadata": {},
   "outputs": [
    {
     "name": "stdout",
     "output_type": "stream",
     "text": [
      "closest.py\t  iris.ipynb   README.md       vectors.py\r\n",
      "iris-dataset.csv  __pycache__  Untitled.ipynb\r\n"
     ]
    }
   ],
   "source": [
    "!ls"
   ]
  },
  {
   "cell_type": "code",
   "execution_count": 14,
   "metadata": {},
   "outputs": [
    {
     "name": "stdout",
     "output_type": "stream",
     "text": [
      "Enter file name :iris-dataset.csv\n"
     ]
    }
   ],
   "source": [
    "filename = input(\"Enter file name :\")"
   ]
  },
  {
   "cell_type": "code",
   "execution_count": 25,
   "metadata": {},
   "outputs": [],
   "source": [
    "with open(filename, newline='') as iris:\n",
    "    data = list(reader(iris, delimiter=','))"
   ]
  },
  {
   "cell_type": "code",
   "execution_count": 26,
   "metadata": {},
   "outputs": [
    {
     "data": {
      "text/plain": [
       "[['5.1', '3.5', '1.4', '0.2', 'Iris-setosa'],\n",
       " ['4.9', '3.0', '1.4', '0.2', 'Iris-setosa'],\n",
       " ['4.7', '3.2', '1.3', '0.2', 'Iris-setosa'],\n",
       " ['4.6', '3.1', '1.5', '0.2', 'Iris-setosa'],\n",
       " ['5.0', '3.6', '1.4', '0.2', 'Iris-setosa'],\n",
       " ['5.4', '3.9', '1.7', '0.4', 'Iris-setosa'],\n",
       " ['4.6', '3.4', '1.4', '0.3', 'Iris-setosa'],\n",
       " ['5.0', '3.4', '1.5', '0.2', 'Iris-setosa'],\n",
       " ['4.4', '2.9', '1.4', '0.2', 'Iris-setosa'],\n",
       " ['4.9', '3.1', '1.5', '0.1', 'Iris-setosa'],\n",
       " ['5.4', '3.7', '1.5', '0.2', 'Iris-setosa'],\n",
       " ['4.8', '3.4', '1.6', '0.2', 'Iris-setosa'],\n",
       " ['4.8', '3.0', '1.4', '0.1', 'Iris-setosa'],\n",
       " ['4.3', '3.0', '1.1', '0.1', 'Iris-setosa'],\n",
       " ['5.8', '4.0', '1.2', '0.2', 'Iris-setosa'],\n",
       " ['5.7', '4.4', '1.5', '0.4', 'Iris-setosa'],\n",
       " ['5.4', '3.9', '1.3', '0.4', 'Iris-setosa'],\n",
       " ['5.1', '3.5', '1.4', '0.3', 'Iris-setosa'],\n",
       " ['5.7', '3.8', '1.7', '0.3', 'Iris-setosa'],\n",
       " ['5.1', '3.8', '1.5', '0.3', 'Iris-setosa'],\n",
       " ['5.4', '3.4', '1.7', '0.2', 'Iris-setosa'],\n",
       " ['5.1', '3.7', '1.5', '0.4', 'Iris-setosa'],\n",
       " ['4.6', '3.6', '1.0', '0.2', 'Iris-setosa'],\n",
       " ['5.1', '3.3', '1.7', '0.5', 'Iris-setosa'],\n",
       " ['4.8', '3.4', '1.9', '0.2', 'Iris-setosa'],\n",
       " ['5.0', '3.0', '1.6', '0.2', 'Iris-setosa'],\n",
       " ['5.0', '3.4', '1.6', '0.4', 'Iris-setosa'],\n",
       " ['5.2', '3.5', '1.5', '0.2', 'Iris-setosa'],\n",
       " ['5.2', '3.4', '1.4', '0.2', 'Iris-setosa'],\n",
       " ['4.7', '3.2', '1.6', '0.2', 'Iris-setosa'],\n",
       " ['4.8', '3.1', '1.6', '0.2', 'Iris-setosa'],\n",
       " ['5.4', '3.4', '1.5', '0.4', 'Iris-setosa'],\n",
       " ['5.2', '4.1', '1.5', '0.1', 'Iris-setosa'],\n",
       " ['5.5', '4.2', '1.4', '0.2', 'Iris-setosa'],\n",
       " ['4.9', '3.1', '1.5', '0.1', 'Iris-setosa'],\n",
       " ['5.0', '3.2', '1.2', '0.2', 'Iris-setosa'],\n",
       " ['5.5', '3.5', '1.3', '0.2', 'Iris-setosa'],\n",
       " ['4.9', '3.1', '1.5', '0.1', 'Iris-setosa'],\n",
       " ['4.4', '3.0', '1.3', '0.2', 'Iris-setosa'],\n",
       " ['5.1', '3.4', '1.5', '0.2', 'Iris-setosa'],\n",
       " ['5.0', '3.5', '1.3', '0.3', 'Iris-setosa'],\n",
       " ['4.5', '2.3', '1.3', '0.3', 'Iris-setosa'],\n",
       " ['4.4', '3.2', '1.3', '0.2', 'Iris-setosa'],\n",
       " ['5.0', '3.5', '1.6', '0.6', 'Iris-setosa'],\n",
       " ['5.1', '3.8', '1.9', '0.4', 'Iris-setosa'],\n",
       " ['4.8', '3.0', '1.4', '0.3', 'Iris-setosa'],\n",
       " ['5.1', '3.8', '1.6', '0.2', 'Iris-setosa'],\n",
       " ['4.6', '3.2', '1.4', '0.2', 'Iris-setosa'],\n",
       " ['5.3', '3.7', '1.5', '0.2', 'Iris-setosa'],\n",
       " ['5.0', '3.3', '1.4', '0.2', 'Iris-setosa'],\n",
       " ['7.0', '3.2', '4.7', '1.4', 'Iris-versicolor'],\n",
       " ['6.4', '3.2', '4.5', '1.5', 'Iris-versicolor'],\n",
       " ['6.9', '3.1', '4.9', '1.5', 'Iris-versicolor'],\n",
       " ['5.5', '2.3', '4.0', '1.3', 'Iris-versicolor'],\n",
       " ['6.5', '2.8', '4.6', '1.5', 'Iris-versicolor'],\n",
       " ['5.7', '2.8', '4.5', '1.3', 'Iris-versicolor'],\n",
       " ['6.3', '3.3', '4.7', '1.6', 'Iris-versicolor'],\n",
       " ['4.9', '2.4', '3.3', '1.0', 'Iris-versicolor'],\n",
       " ['6.6', '2.9', '4.6', '1.3', 'Iris-versicolor'],\n",
       " ['5.2', '2.7', '3.9', '1.4', 'Iris-versicolor'],\n",
       " ['5.0', '2.0', '3.5', '1.0', 'Iris-versicolor'],\n",
       " ['5.9', '3.0', '4.2', '1.5', 'Iris-versicolor'],\n",
       " ['6.0', '2.2', '4.0', '1.0', 'Iris-versicolor'],\n",
       " ['6.1', '2.9', '4.7', '1.4', 'Iris-versicolor'],\n",
       " ['5.6', '2.9', '3.6', '1.3', 'Iris-versicolor'],\n",
       " ['6.7', '3.1', '4.4', '1.4', 'Iris-versicolor'],\n",
       " ['5.6', '3.0', '4.5', '1.5', 'Iris-versicolor'],\n",
       " ['5.8', '2.7', '4.1', '1.0', 'Iris-versicolor'],\n",
       " ['6.2', '2.2', '4.5', '1.5', 'Iris-versicolor'],\n",
       " ['5.6', '2.5', '3.9', '1.1', 'Iris-versicolor'],\n",
       " ['5.9', '3.2', '4.8', '1.8', 'Iris-versicolor'],\n",
       " ['6.1', '2.8', '4.0', '1.3', 'Iris-versicolor'],\n",
       " ['6.3', '2.5', '4.9', '1.5', 'Iris-versicolor'],\n",
       " ['6.1', '2.8', '4.7', '1.2', 'Iris-versicolor'],\n",
       " ['6.4', '2.9', '4.3', '1.3', 'Iris-versicolor'],\n",
       " ['6.6', '3.0', '4.4', '1.4', 'Iris-versicolor'],\n",
       " ['6.8', '2.8', '4.8', '1.4', 'Iris-versicolor'],\n",
       " ['6.7', '3.0', '5.0', '1.7', 'Iris-versicolor'],\n",
       " ['6.0', '2.9', '4.5', '1.5', 'Iris-versicolor'],\n",
       " ['5.7', '2.6', '3.5', '1.0', 'Iris-versicolor'],\n",
       " ['5.5', '2.4', '3.8', '1.1', 'Iris-versicolor'],\n",
       " ['5.5', '2.4', '3.7', '1.0', 'Iris-versicolor'],\n",
       " ['5.8', '2.7', '3.9', '1.2', 'Iris-versicolor'],\n",
       " ['6.0', '2.7', '5.1', '1.6', 'Iris-versicolor'],\n",
       " ['5.4', '3.0', '4.5', '1.5', 'Iris-versicolor'],\n",
       " ['6.0', '3.4', '4.5', '1.6', 'Iris-versicolor'],\n",
       " ['6.7', '3.1', '4.7', '1.5', 'Iris-versicolor'],\n",
       " ['6.3', '2.3', '4.4', '1.3', 'Iris-versicolor'],\n",
       " ['5.6', '3.0', '4.1', '1.3', 'Iris-versicolor'],\n",
       " ['5.5', '2.5', '4.0', '1.3', 'Iris-versicolor'],\n",
       " ['5.5', '2.6', '4.4', '1.2', 'Iris-versicolor'],\n",
       " ['6.1', '3.0', '4.6', '1.4', 'Iris-versicolor'],\n",
       " ['5.8', '2.6', '4.0', '1.2', 'Iris-versicolor'],\n",
       " ['5.0', '2.3', '3.3', '1.0', 'Iris-versicolor'],\n",
       " ['5.6', '2.7', '4.2', '1.3', 'Iris-versicolor'],\n",
       " ['5.7', '3.0', '4.2', '1.2', 'Iris-versicolor'],\n",
       " ['5.7', '2.9', '4.2', '1.3', 'Iris-versicolor'],\n",
       " ['6.2', '2.9', '4.3', '1.3', 'Iris-versicolor'],\n",
       " ['5.1', '2.5', '3.0', '1.1', 'Iris-versicolor'],\n",
       " ['5.7', '2.8', '4.1', '1.3', 'Iris-versicolor'],\n",
       " ['6.3', '3.3', '6.0', '2.5', 'Iris-virginica'],\n",
       " ['5.8', '2.7', '5.1', '1.9', 'Iris-virginica'],\n",
       " ['7.1', '3.0', '5.9', '2.1', 'Iris-virginica'],\n",
       " ['6.3', '2.9', '5.6', '1.8', 'Iris-virginica'],\n",
       " ['6.5', '3.0', '5.8', '2.2', 'Iris-virginica'],\n",
       " ['7.6', '3.0', '6.6', '2.1', 'Iris-virginica'],\n",
       " ['4.9', '2.5', '4.5', '1.7', 'Iris-virginica'],\n",
       " ['7.3', '2.9', '6.3', '1.8', 'Iris-virginica'],\n",
       " ['6.7', '2.5', '5.8', '1.8', 'Iris-virginica'],\n",
       " ['7.2', '3.6', '6.1', '2.5', 'Iris-virginica'],\n",
       " ['6.5', '3.2', '5.1', '2.0', 'Iris-virginica'],\n",
       " ['6.4', '2.7', '5.3', '1.9', 'Iris-virginica'],\n",
       " ['6.8', '3.0', '5.5', '2.1', 'Iris-virginica'],\n",
       " ['5.7', '2.5', '5.0', '2.0', 'Iris-virginica'],\n",
       " ['5.8', '2.8', '5.1', '2.4', 'Iris-virginica'],\n",
       " ['6.4', '3.2', '5.3', '2.3', 'Iris-virginica'],\n",
       " ['6.5', '3.0', '5.5', '1.8', 'Iris-virginica'],\n",
       " ['7.7', '3.8', '6.7', '2.2', 'Iris-virginica'],\n",
       " ['7.7', '2.6', '6.9', '2.3', 'Iris-virginica'],\n",
       " ['6.0', '2.2', '5.0', '1.5', 'Iris-virginica'],\n",
       " ['6.9', '3.2', '5.7', '2.3', 'Iris-virginica'],\n",
       " ['5.6', '2.8', '4.9', '2.0', 'Iris-virginica'],\n",
       " ['7.7', '2.8', '6.7', '2.0', 'Iris-virginica'],\n",
       " ['6.3', '2.7', '4.9', '1.8', 'Iris-virginica'],\n",
       " ['6.7', '3.3', '5.7', '2.1', 'Iris-virginica'],\n",
       " ['7.2', '3.2', '6.0', '1.8', 'Iris-virginica'],\n",
       " ['6.2', '2.8', '4.8', '1.8', 'Iris-virginica'],\n",
       " ['6.1', '3.0', '4.9', '1.8', 'Iris-virginica'],\n",
       " ['6.4', '2.8', '5.6', '2.1', 'Iris-virginica'],\n",
       " ['7.2', '3.0', '5.8', '1.6', 'Iris-virginica'],\n",
       " ['7.4', '2.8', '6.1', '1.9', 'Iris-virginica'],\n",
       " ['7.9', '3.8', '6.4', '2.0', 'Iris-virginica'],\n",
       " ['6.4', '2.8', '5.6', '2.2', 'Iris-virginica'],\n",
       " ['6.3', '2.8', '5.1', '1.5', 'Iris-virginica'],\n",
       " ['6.1', '2.6', '5.6', '1.4', 'Iris-virginica'],\n",
       " ['7.7', '3.0', '6.1', '2.3', 'Iris-virginica'],\n",
       " ['6.3', '3.4', '5.6', '2.4', 'Iris-virginica'],\n",
       " ['6.4', '3.1', '5.5', '1.8', 'Iris-virginica'],\n",
       " ['6.0', '3.0', '4.8', '1.8', 'Iris-virginica'],\n",
       " ['6.9', '3.1', '5.4', '2.1', 'Iris-virginica'],\n",
       " ['6.7', '3.1', '5.6', '2.4', 'Iris-virginica'],\n",
       " ['6.9', '3.1', '5.1', '2.3', 'Iris-virginica'],\n",
       " ['5.8', '2.7', '5.1', '1.9', 'Iris-virginica'],\n",
       " ['6.8', '3.2', '5.9', '2.3', 'Iris-virginica'],\n",
       " ['6.7', '3.3', '5.7', '2.5', 'Iris-virginica'],\n",
       " ['6.7', '3.0', '5.2', '2.3', 'Iris-virginica'],\n",
       " ['6.3', '2.5', '5.0', '1.9', 'Iris-virginica'],\n",
       " ['6.5', '3.0', '5.2', '2.0', 'Iris-virginica'],\n",
       " ['6.2', '3.4', '5.4', '2.3', 'Iris-virginica'],\n",
       " ['5.9', '3.0', '5.1', '1.8', 'Iris-virginica']]"
      ]
     },
     "execution_count": 26,
     "metadata": {},
     "output_type": "execute_result"
    }
   ],
   "source": [
    "data"
   ]
  },
  {
   "cell_type": "code",
   "execution_count": 27,
   "metadata": {},
   "outputs": [],
   "source": [
    "pp = []\n",
    "for x in data[0][:-1] :\n",
    "    pp.append(float(x))"
   ]
  },
  {
   "cell_type": "code",
   "execution_count": 28,
   "metadata": {},
   "outputs": [
    {
     "data": {
      "text/plain": [
       "[5.1, 3.5, 1.4, 0.2]"
      ]
     },
     "execution_count": 28,
     "metadata": {},
     "output_type": "execute_result"
    }
   ],
   "source": [
    "pp"
   ]
  },
  {
   "cell_type": "code",
   "execution_count": 29,
   "metadata": {},
   "outputs": [],
   "source": [
    "dataset = []\n",
    "for i in range(len(data)):\n",
    "    temp = []\n",
    "    for x in data[i][:-1]:\n",
    "        temp.append(float(x))\n",
    "    vec = Vector(temp)\n",
    "    dataset.append(vec)"
   ]
  },
  {
   "cell_type": "code",
   "execution_count": 30,
   "metadata": {},
   "outputs": [
    {
     "data": {
      "text/plain": [
       "[<__main__.Vector at 0x7fad95d07080>,\n",
       " <__main__.Vector at 0x7fad95d070b8>,\n",
       " <__main__.Vector at 0x7fad95d070f0>,\n",
       " <__main__.Vector at 0x7fad95d07128>,\n",
       " <__main__.Vector at 0x7fad95d07160>,\n",
       " <__main__.Vector at 0x7fad95d07198>,\n",
       " <__main__.Vector at 0x7fad95d071d0>,\n",
       " <__main__.Vector at 0x7fad95d07208>,\n",
       " <__main__.Vector at 0x7fad95d07240>,\n",
       " <__main__.Vector at 0x7fad95d07278>,\n",
       " <__main__.Vector at 0x7fad95d072b0>,\n",
       " <__main__.Vector at 0x7fad95d072e8>,\n",
       " <__main__.Vector at 0x7fad95d07320>,\n",
       " <__main__.Vector at 0x7fad95d07358>,\n",
       " <__main__.Vector at 0x7fad95d07390>,\n",
       " <__main__.Vector at 0x7fad95d073c8>,\n",
       " <__main__.Vector at 0x7fad95d07400>,\n",
       " <__main__.Vector at 0x7fad95d07438>,\n",
       " <__main__.Vector at 0x7fad95d07470>,\n",
       " <__main__.Vector at 0x7fad95d074a8>,\n",
       " <__main__.Vector at 0x7fad95d074e0>,\n",
       " <__main__.Vector at 0x7fad95d07518>,\n",
       " <__main__.Vector at 0x7fad95d07550>,\n",
       " <__main__.Vector at 0x7fad95d07588>,\n",
       " <__main__.Vector at 0x7fad95d075c0>,\n",
       " <__main__.Vector at 0x7fad95d075f8>,\n",
       " <__main__.Vector at 0x7fad95d07630>,\n",
       " <__main__.Vector at 0x7fad95d07668>,\n",
       " <__main__.Vector at 0x7fad95d076a0>,\n",
       " <__main__.Vector at 0x7fad95d076d8>,\n",
       " <__main__.Vector at 0x7fad95d07710>,\n",
       " <__main__.Vector at 0x7fad95d07748>,\n",
       " <__main__.Vector at 0x7fad95d07780>,\n",
       " <__main__.Vector at 0x7fad95d077b8>,\n",
       " <__main__.Vector at 0x7fad95d077f0>,\n",
       " <__main__.Vector at 0x7fad95d07828>,\n",
       " <__main__.Vector at 0x7fad95d07860>,\n",
       " <__main__.Vector at 0x7fad95d07898>,\n",
       " <__main__.Vector at 0x7fad95d078d0>,\n",
       " <__main__.Vector at 0x7fad95d07908>,\n",
       " <__main__.Vector at 0x7fad95d07940>,\n",
       " <__main__.Vector at 0x7fad95d07978>,\n",
       " <__main__.Vector at 0x7fad95d079b0>,\n",
       " <__main__.Vector at 0x7fad95d079e8>,\n",
       " <__main__.Vector at 0x7fad95d07a20>,\n",
       " <__main__.Vector at 0x7fad95d07a58>,\n",
       " <__main__.Vector at 0x7fad95d07a90>,\n",
       " <__main__.Vector at 0x7fad95d07ac8>,\n",
       " <__main__.Vector at 0x7fad95d07b00>,\n",
       " <__main__.Vector at 0x7fad95d07b38>,\n",
       " <__main__.Vector at 0x7fad95d07b70>,\n",
       " <__main__.Vector at 0x7fad95d07ba8>,\n",
       " <__main__.Vector at 0x7fad95d07be0>,\n",
       " <__main__.Vector at 0x7fad95d07c18>,\n",
       " <__main__.Vector at 0x7fad95d07c50>,\n",
       " <__main__.Vector at 0x7fad95d07c88>,\n",
       " <__main__.Vector at 0x7fad95d07cc0>,\n",
       " <__main__.Vector at 0x7fad95d07cf8>,\n",
       " <__main__.Vector at 0x7fad95d07d30>,\n",
       " <__main__.Vector at 0x7fad95d07d68>,\n",
       " <__main__.Vector at 0x7fad95d07da0>,\n",
       " <__main__.Vector at 0x7fad95d07dd8>,\n",
       " <__main__.Vector at 0x7fad95d07e10>,\n",
       " <__main__.Vector at 0x7fad95d07e48>,\n",
       " <__main__.Vector at 0x7fad95d07e80>,\n",
       " <__main__.Vector at 0x7fad95d07eb8>,\n",
       " <__main__.Vector at 0x7fad95d07ef0>,\n",
       " <__main__.Vector at 0x7fad95d07f28>,\n",
       " <__main__.Vector at 0x7fad95d07f60>,\n",
       " <__main__.Vector at 0x7fad95d07f98>,\n",
       " <__main__.Vector at 0x7fad95d07fd0>,\n",
       " <__main__.Vector at 0x7fad95d0c048>,\n",
       " <__main__.Vector at 0x7fad95d0c128>,\n",
       " <__main__.Vector at 0x7fad95d0c0f0>,\n",
       " <__main__.Vector at 0x7fad95d0c080>,\n",
       " <__main__.Vector at 0x7fad95d0c1d0>,\n",
       " <__main__.Vector at 0x7fad95d0c208>,\n",
       " <__main__.Vector at 0x7fad95d0c198>,\n",
       " <__main__.Vector at 0x7fad95d0c2b0>,\n",
       " <__main__.Vector at 0x7fad95d0c3c8>,\n",
       " <__main__.Vector at 0x7fad95d0c358>,\n",
       " <__main__.Vector at 0x7fad95d0c160>,\n",
       " <__main__.Vector at 0x7fad95d0c390>,\n",
       " <__main__.Vector at 0x7fad95d0c4a8>,\n",
       " <__main__.Vector at 0x7fad95d0c438>,\n",
       " <__main__.Vector at 0x7fad95d0c240>,\n",
       " <__main__.Vector at 0x7fad95d0c470>,\n",
       " <__main__.Vector at 0x7fad95d0c588>,\n",
       " <__main__.Vector at 0x7fad95d0c518>,\n",
       " <__main__.Vector at 0x7fad95d0c320>,\n",
       " <__main__.Vector at 0x7fad95d0c550>,\n",
       " <__main__.Vector at 0x7fad95d0c668>,\n",
       " <__main__.Vector at 0x7fad95d0c5f8>,\n",
       " <__main__.Vector at 0x7fad95d0c400>,\n",
       " <__main__.Vector at 0x7fad95d0c630>,\n",
       " <__main__.Vector at 0x7fad95d0c748>,\n",
       " <__main__.Vector at 0x7fad95d0c6d8>,\n",
       " <__main__.Vector at 0x7fad95d0c4e0>,\n",
       " <__main__.Vector at 0x7fad95d0c710>,\n",
       " <__main__.Vector at 0x7fad95d0c828>,\n",
       " <__main__.Vector at 0x7fad95d0c7b8>,\n",
       " <__main__.Vector at 0x7fad95d0c5c0>,\n",
       " <__main__.Vector at 0x7fad95d0c7f0>,\n",
       " <__main__.Vector at 0x7fad95d0c908>,\n",
       " <__main__.Vector at 0x7fad95d0c898>,\n",
       " <__main__.Vector at 0x7fad95d0c6a0>,\n",
       " <__main__.Vector at 0x7fad95d0c8d0>,\n",
       " <__main__.Vector at 0x7fad95d0c9e8>,\n",
       " <__main__.Vector at 0x7fad95d0c978>,\n",
       " <__main__.Vector at 0x7fad95d0c780>,\n",
       " <__main__.Vector at 0x7fad95d0c9b0>,\n",
       " <__main__.Vector at 0x7fad95d0cac8>,\n",
       " <__main__.Vector at 0x7fad95d0ca58>,\n",
       " <__main__.Vector at 0x7fad95d0c860>,\n",
       " <__main__.Vector at 0x7fad95d0ca90>,\n",
       " <__main__.Vector at 0x7fad95d0cba8>,\n",
       " <__main__.Vector at 0x7fad95d0cb38>,\n",
       " <__main__.Vector at 0x7fad95d0c940>,\n",
       " <__main__.Vector at 0x7fad95d0cb70>,\n",
       " <__main__.Vector at 0x7fad95d0cc88>,\n",
       " <__main__.Vector at 0x7fad95d0cc18>,\n",
       " <__main__.Vector at 0x7fad95d0ca20>,\n",
       " <__main__.Vector at 0x7fad95d0cc50>,\n",
       " <__main__.Vector at 0x7fad95d0cd68>,\n",
       " <__main__.Vector at 0x7fad95d0ccf8>,\n",
       " <__main__.Vector at 0x7fad95d0cb00>,\n",
       " <__main__.Vector at 0x7fad95d0cd30>,\n",
       " <__main__.Vector at 0x7fad95d0ce48>,\n",
       " <__main__.Vector at 0x7fad95d0cdd8>,\n",
       " <__main__.Vector at 0x7fad95d0cbe0>,\n",
       " <__main__.Vector at 0x7fad95d0ce10>,\n",
       " <__main__.Vector at 0x7fad95d0cf28>,\n",
       " <__main__.Vector at 0x7fad95d0ceb8>,\n",
       " <__main__.Vector at 0x7fad95d0ccc0>,\n",
       " <__main__.Vector at 0x7fad95d0cef0>,\n",
       " <__main__.Vector at 0x7fad95d0c278>,\n",
       " <__main__.Vector at 0x7fad95d0c2e8>,\n",
       " <__main__.Vector at 0x7fad95d0c0b8>,\n",
       " <__main__.Vector at 0x7fad95d0ce80>,\n",
       " <__main__.Vector at 0x7fad95d0cfd0>,\n",
       " <__main__.Vector at 0x7fad95d0cf98>,\n",
       " <__main__.Vector at 0x7fad95d0cf60>,\n",
       " <__main__.Vector at 0x7fad95d0cda0>,\n",
       " <__main__.Vector at 0x7fad95d10048>,\n",
       " <__main__.Vector at 0x7fad95d10080>,\n",
       " <__main__.Vector at 0x7fad95d100b8>,\n",
       " <__main__.Vector at 0x7fad95d100f0>,\n",
       " <__main__.Vector at 0x7fad95d10128>,\n",
       " <__main__.Vector at 0x7fad95d10160>,\n",
       " <__main__.Vector at 0x7fad95d10198>]"
      ]
     },
     "execution_count": 30,
     "metadata": {},
     "output_type": "execute_result"
    }
   ],
   "source": [
    "dataset"
   ]
  },
  {
   "cell_type": "code",
   "execution_count": 31,
   "metadata": {},
   "outputs": [
    {
     "data": {
      "text/plain": [
       "0.7681145747868608"
      ]
     },
     "execution_count": 31,
     "metadata": {},
     "output_type": "execute_result"
    }
   ],
   "source": [
    "dist(dataset[148],dataset[149])"
   ]
  },
  {
   "cell_type": "code",
   "execution_count": 32,
   "metadata": {},
   "outputs": [
    {
     "data": {
      "text/plain": [
       "[<__main__.Vector at 0x7fad95d07080>,\n",
       " <__main__.Vector at 0x7fad95d070b8>,\n",
       " <__main__.Vector at 0x7fad95d070f0>,\n",
       " <__main__.Vector at 0x7fad95d07128>,\n",
       " <__main__.Vector at 0x7fad95d07160>,\n",
       " <__main__.Vector at 0x7fad95d07198>,\n",
       " <__main__.Vector at 0x7fad95d071d0>,\n",
       " <__main__.Vector at 0x7fad95d07208>,\n",
       " <__main__.Vector at 0x7fad95d07240>,\n",
       " <__main__.Vector at 0x7fad95d07278>,\n",
       " <__main__.Vector at 0x7fad95d072b0>,\n",
       " <__main__.Vector at 0x7fad95d072e8>,\n",
       " <__main__.Vector at 0x7fad95d07320>,\n",
       " <__main__.Vector at 0x7fad95d07358>,\n",
       " <__main__.Vector at 0x7fad95d07390>,\n",
       " <__main__.Vector at 0x7fad95d073c8>,\n",
       " <__main__.Vector at 0x7fad95d07400>,\n",
       " <__main__.Vector at 0x7fad95d07438>,\n",
       " <__main__.Vector at 0x7fad95d07470>,\n",
       " <__main__.Vector at 0x7fad95d074a8>,\n",
       " <__main__.Vector at 0x7fad95d074e0>,\n",
       " <__main__.Vector at 0x7fad95d07518>,\n",
       " <__main__.Vector at 0x7fad95d07550>,\n",
       " <__main__.Vector at 0x7fad95d07588>,\n",
       " <__main__.Vector at 0x7fad95d075c0>,\n",
       " <__main__.Vector at 0x7fad95d075f8>,\n",
       " <__main__.Vector at 0x7fad95d07630>,\n",
       " <__main__.Vector at 0x7fad95d07668>,\n",
       " <__main__.Vector at 0x7fad95d076a0>,\n",
       " <__main__.Vector at 0x7fad95d076d8>,\n",
       " <__main__.Vector at 0x7fad95d07710>,\n",
       " <__main__.Vector at 0x7fad95d07748>,\n",
       " <__main__.Vector at 0x7fad95d07780>,\n",
       " <__main__.Vector at 0x7fad95d077b8>,\n",
       " <__main__.Vector at 0x7fad95d077f0>,\n",
       " <__main__.Vector at 0x7fad95d07828>,\n",
       " <__main__.Vector at 0x7fad95d07860>,\n",
       " <__main__.Vector at 0x7fad95d07898>,\n",
       " <__main__.Vector at 0x7fad95d078d0>,\n",
       " <__main__.Vector at 0x7fad95d07908>,\n",
       " <__main__.Vector at 0x7fad95d07940>,\n",
       " <__main__.Vector at 0x7fad95d07978>,\n",
       " <__main__.Vector at 0x7fad95d079b0>,\n",
       " <__main__.Vector at 0x7fad95d079e8>,\n",
       " <__main__.Vector at 0x7fad95d07a20>,\n",
       " <__main__.Vector at 0x7fad95d07a58>,\n",
       " <__main__.Vector at 0x7fad95d07a90>,\n",
       " <__main__.Vector at 0x7fad95d07ac8>,\n",
       " <__main__.Vector at 0x7fad95d07b00>,\n",
       " <__main__.Vector at 0x7fad95d07b38>,\n",
       " <__main__.Vector at 0x7fad95d07b70>,\n",
       " <__main__.Vector at 0x7fad95d07ba8>,\n",
       " <__main__.Vector at 0x7fad95d07be0>,\n",
       " <__main__.Vector at 0x7fad95d07c18>,\n",
       " <__main__.Vector at 0x7fad95d07c50>,\n",
       " <__main__.Vector at 0x7fad95d07c88>,\n",
       " <__main__.Vector at 0x7fad95d07cc0>,\n",
       " <__main__.Vector at 0x7fad95d07cf8>,\n",
       " <__main__.Vector at 0x7fad95d07d30>,\n",
       " <__main__.Vector at 0x7fad95d07d68>,\n",
       " <__main__.Vector at 0x7fad95d07da0>,\n",
       " <__main__.Vector at 0x7fad95d07dd8>,\n",
       " <__main__.Vector at 0x7fad95d07e10>,\n",
       " <__main__.Vector at 0x7fad95d07e48>,\n",
       " <__main__.Vector at 0x7fad95d07e80>,\n",
       " <__main__.Vector at 0x7fad95d07eb8>,\n",
       " <__main__.Vector at 0x7fad95d07ef0>,\n",
       " <__main__.Vector at 0x7fad95d07f28>,\n",
       " <__main__.Vector at 0x7fad95d07f60>,\n",
       " <__main__.Vector at 0x7fad95d07f98>,\n",
       " <__main__.Vector at 0x7fad95d07fd0>,\n",
       " <__main__.Vector at 0x7fad95d0c048>,\n",
       " <__main__.Vector at 0x7fad95d0c128>,\n",
       " <__main__.Vector at 0x7fad95d0c0f0>,\n",
       " <__main__.Vector at 0x7fad95d0c080>,\n",
       " <__main__.Vector at 0x7fad95d0c1d0>,\n",
       " <__main__.Vector at 0x7fad95d0c208>,\n",
       " <__main__.Vector at 0x7fad95d0c198>,\n",
       " <__main__.Vector at 0x7fad95d0c2b0>,\n",
       " <__main__.Vector at 0x7fad95d0c3c8>,\n",
       " <__main__.Vector at 0x7fad95d0c358>,\n",
       " <__main__.Vector at 0x7fad95d0c160>,\n",
       " <__main__.Vector at 0x7fad95d0c390>,\n",
       " <__main__.Vector at 0x7fad95d0c4a8>,\n",
       " <__main__.Vector at 0x7fad95d0c438>,\n",
       " <__main__.Vector at 0x7fad95d0c240>,\n",
       " <__main__.Vector at 0x7fad95d0c470>,\n",
       " <__main__.Vector at 0x7fad95d0c588>,\n",
       " <__main__.Vector at 0x7fad95d0c518>,\n",
       " <__main__.Vector at 0x7fad95d0c320>,\n",
       " <__main__.Vector at 0x7fad95d0c550>,\n",
       " <__main__.Vector at 0x7fad95d0c668>,\n",
       " <__main__.Vector at 0x7fad95d0c5f8>,\n",
       " <__main__.Vector at 0x7fad95d0c400>,\n",
       " <__main__.Vector at 0x7fad95d0c630>,\n",
       " <__main__.Vector at 0x7fad95d0c748>,\n",
       " <__main__.Vector at 0x7fad95d0c6d8>,\n",
       " <__main__.Vector at 0x7fad95d0c4e0>,\n",
       " <__main__.Vector at 0x7fad95d0c710>,\n",
       " <__main__.Vector at 0x7fad95d0c828>,\n",
       " <__main__.Vector at 0x7fad95d0c7b8>,\n",
       " <__main__.Vector at 0x7fad95d0c5c0>,\n",
       " <__main__.Vector at 0x7fad95d0c7f0>,\n",
       " <__main__.Vector at 0x7fad95d0c908>,\n",
       " <__main__.Vector at 0x7fad95d0c898>,\n",
       " <__main__.Vector at 0x7fad95d0c6a0>,\n",
       " <__main__.Vector at 0x7fad95d0c8d0>,\n",
       " <__main__.Vector at 0x7fad95d0c9e8>,\n",
       " <__main__.Vector at 0x7fad95d0c978>,\n",
       " <__main__.Vector at 0x7fad95d0c780>,\n",
       " <__main__.Vector at 0x7fad95d0c9b0>,\n",
       " <__main__.Vector at 0x7fad95d0cac8>,\n",
       " <__main__.Vector at 0x7fad95d0ca58>,\n",
       " <__main__.Vector at 0x7fad95d0c860>,\n",
       " <__main__.Vector at 0x7fad95d0ca90>,\n",
       " <__main__.Vector at 0x7fad95d0cba8>,\n",
       " <__main__.Vector at 0x7fad95d0cb38>,\n",
       " <__main__.Vector at 0x7fad95d0c940>,\n",
       " <__main__.Vector at 0x7fad95d0cb70>,\n",
       " <__main__.Vector at 0x7fad95d0cc88>,\n",
       " <__main__.Vector at 0x7fad95d0cc18>,\n",
       " <__main__.Vector at 0x7fad95d0ca20>,\n",
       " <__main__.Vector at 0x7fad95d0cc50>,\n",
       " <__main__.Vector at 0x7fad95d0cd68>,\n",
       " <__main__.Vector at 0x7fad95d0ccf8>,\n",
       " <__main__.Vector at 0x7fad95d0cb00>,\n",
       " <__main__.Vector at 0x7fad95d0cd30>,\n",
       " <__main__.Vector at 0x7fad95d0ce48>,\n",
       " <__main__.Vector at 0x7fad95d0cdd8>,\n",
       " <__main__.Vector at 0x7fad95d0cbe0>,\n",
       " <__main__.Vector at 0x7fad95d0ce10>,\n",
       " <__main__.Vector at 0x7fad95d0cf28>,\n",
       " <__main__.Vector at 0x7fad95d0ceb8>,\n",
       " <__main__.Vector at 0x7fad95d0ccc0>,\n",
       " <__main__.Vector at 0x7fad95d0cef0>,\n",
       " <__main__.Vector at 0x7fad95d0c278>,\n",
       " <__main__.Vector at 0x7fad95d0c2e8>,\n",
       " <__main__.Vector at 0x7fad95d0c0b8>,\n",
       " <__main__.Vector at 0x7fad95d0ce80>,\n",
       " <__main__.Vector at 0x7fad95d0cfd0>,\n",
       " <__main__.Vector at 0x7fad95d0cf98>,\n",
       " <__main__.Vector at 0x7fad95d0cf60>,\n",
       " <__main__.Vector at 0x7fad95d0cda0>,\n",
       " <__main__.Vector at 0x7fad95d10048>,\n",
       " <__main__.Vector at 0x7fad95d10080>,\n",
       " <__main__.Vector at 0x7fad95d100b8>,\n",
       " <__main__.Vector at 0x7fad95d100f0>,\n",
       " <__main__.Vector at 0x7fad95d10128>,\n",
       " <__main__.Vector at 0x7fad95d10160>,\n",
       " <__main__.Vector at 0x7fad95d10198>]"
      ]
     },
     "execution_count": 32,
     "metadata": {},
     "output_type": "execute_result"
    }
   ],
   "source": [
    "dataset"
   ]
  },
  {
   "cell_type": "code",
   "execution_count": 42,
   "metadata": {},
   "outputs": [],
   "source": [
    "g,h,p = dist_matrix(dataset)"
   ]
  },
  {
   "cell_type": "code",
   "execution_count": 44,
   "metadata": {},
   "outputs": [
    {
     "data": {
      "text/plain": [
       "7.059036761485238"
      ]
     },
     "execution_count": 44,
     "metadata": {},
     "output_type": "execute_result"
    }
   ],
   "source": [
    "p"
   ]
  },
  {
   "cell_type": "code",
   "execution_count": 34,
   "metadata": {},
   "outputs": [
    {
     "data": {
      "text/plain": [
       "0.7681145747868608"
      ]
     },
     "execution_count": 34,
     "metadata": {},
     "output_type": "execute_result"
    }
   ],
   "source": [
    "p"
   ]
  },
  {
   "cell_type": "code",
   "execution_count": 73,
   "metadata": {},
   "outputs": [],
   "source": [
    "%matplotlib inline\n",
    "import pandas as pd\n",
    "from sklearn.datasets import load_iris\n",
    "from sklearn.decomposition import PCA\n",
    "from sklearn.manifold import TSNE\n",
    "\n",
    "import matplotlib.pyplot as plt\n",
    "from matplotlib.colors import ListedColormap\n",
    "from mpl_toolkits.mplot3d import Axes3D\n",
    "import seaborn as sns"
   ]
  },
  {
   "cell_type": "code",
   "execution_count": 88,
   "metadata": {},
   "outputs": [],
   "source": [
    "import numpy as np\n",
    "import pandas as pd\n",
    "import matplotlib.pyplot as plt\n",
    "import seaborn as sns\n",
    "import warnings\n",
    "\n",
    "%matplotlib inline\n",
    "warnings.filterwarnings(\"ignore\")\n"
   ]
  },
  {
   "cell_type": "code",
   "execution_count": 91,
   "metadata": {},
   "outputs": [
    {
     "data": {
      "text/html": [
       "<div>\n",
       "<style scoped>\n",
       "    .dataframe tbody tr th:only-of-type {\n",
       "        vertical-align: middle;\n",
       "    }\n",
       "\n",
       "    .dataframe tbody tr th {\n",
       "        vertical-align: top;\n",
       "    }\n",
       "\n",
       "    .dataframe thead th {\n",
       "        text-align: right;\n",
       "    }\n",
       "</style>\n",
       "<table border=\"1\" class=\"dataframe\">\n",
       "  <thead>\n",
       "    <tr style=\"text-align: right;\">\n",
       "      <th></th>\n",
       "      <th>f1</th>\n",
       "      <th>f2</th>\n",
       "      <th>f3</th>\n",
       "      <th>f4</th>\n",
       "      <th>t</th>\n",
       "    </tr>\n",
       "  </thead>\n",
       "  <tbody>\n",
       "    <tr>\n",
       "      <th>0</th>\n",
       "      <td>5.1</td>\n",
       "      <td>3.5</td>\n",
       "      <td>1.4</td>\n",
       "      <td>0.2</td>\n",
       "      <td>Iris-setosa</td>\n",
       "    </tr>\n",
       "    <tr>\n",
       "      <th>1</th>\n",
       "      <td>4.9</td>\n",
       "      <td>3.0</td>\n",
       "      <td>1.4</td>\n",
       "      <td>0.2</td>\n",
       "      <td>Iris-setosa</td>\n",
       "    </tr>\n",
       "    <tr>\n",
       "      <th>2</th>\n",
       "      <td>4.7</td>\n",
       "      <td>3.2</td>\n",
       "      <td>1.3</td>\n",
       "      <td>0.2</td>\n",
       "      <td>Iris-setosa</td>\n",
       "    </tr>\n",
       "    <tr>\n",
       "      <th>3</th>\n",
       "      <td>4.6</td>\n",
       "      <td>3.1</td>\n",
       "      <td>1.5</td>\n",
       "      <td>0.2</td>\n",
       "      <td>Iris-setosa</td>\n",
       "    </tr>\n",
       "    <tr>\n",
       "      <th>4</th>\n",
       "      <td>5.0</td>\n",
       "      <td>3.6</td>\n",
       "      <td>1.4</td>\n",
       "      <td>0.2</td>\n",
       "      <td>Iris-setosa</td>\n",
       "    </tr>\n",
       "  </tbody>\n",
       "</table>\n",
       "</div>"
      ],
      "text/plain": [
       "    f1   f2   f3   f4            t\n",
       "0  5.1  3.5  1.4  0.2  Iris-setosa\n",
       "1  4.9  3.0  1.4  0.2  Iris-setosa\n",
       "2  4.7  3.2  1.3  0.2  Iris-setosa\n",
       "3  4.6  3.1  1.5  0.2  Iris-setosa\n",
       "4  5.0  3.6  1.4  0.2  Iris-setosa"
      ]
     },
     "execution_count": 91,
     "metadata": {},
     "output_type": "execute_result"
    }
   ],
   "source": [
    "df = pd.read_csv('iris-dataset.csv', names = ['f1','f2','f3','f4','t'])\n",
    "df.head()"
   ]
  },
  {
   "cell_type": "code",
   "execution_count": 92,
   "metadata": {},
   "outputs": [],
   "source": [
    "df = df.drop(\"t\", axis=1)"
   ]
  },
  {
   "cell_type": "code",
   "execution_count": 93,
   "metadata": {},
   "outputs": [
    {
     "data": {
      "text/html": [
       "<div>\n",
       "<style scoped>\n",
       "    .dataframe tbody tr th:only-of-type {\n",
       "        vertical-align: middle;\n",
       "    }\n",
       "\n",
       "    .dataframe tbody tr th {\n",
       "        vertical-align: top;\n",
       "    }\n",
       "\n",
       "    .dataframe thead th {\n",
       "        text-align: right;\n",
       "    }\n",
       "</style>\n",
       "<table border=\"1\" class=\"dataframe\">\n",
       "  <thead>\n",
       "    <tr style=\"text-align: right;\">\n",
       "      <th></th>\n",
       "      <th>f1</th>\n",
       "      <th>f2</th>\n",
       "      <th>f3</th>\n",
       "      <th>f4</th>\n",
       "    </tr>\n",
       "  </thead>\n",
       "  <tbody>\n",
       "    <tr>\n",
       "      <th>0</th>\n",
       "      <td>5.1</td>\n",
       "      <td>3.5</td>\n",
       "      <td>1.4</td>\n",
       "      <td>0.2</td>\n",
       "    </tr>\n",
       "    <tr>\n",
       "      <th>1</th>\n",
       "      <td>4.9</td>\n",
       "      <td>3.0</td>\n",
       "      <td>1.4</td>\n",
       "      <td>0.2</td>\n",
       "    </tr>\n",
       "    <tr>\n",
       "      <th>2</th>\n",
       "      <td>4.7</td>\n",
       "      <td>3.2</td>\n",
       "      <td>1.3</td>\n",
       "      <td>0.2</td>\n",
       "    </tr>\n",
       "    <tr>\n",
       "      <th>3</th>\n",
       "      <td>4.6</td>\n",
       "      <td>3.1</td>\n",
       "      <td>1.5</td>\n",
       "      <td>0.2</td>\n",
       "    </tr>\n",
       "    <tr>\n",
       "      <th>4</th>\n",
       "      <td>5.0</td>\n",
       "      <td>3.6</td>\n",
       "      <td>1.4</td>\n",
       "      <td>0.2</td>\n",
       "    </tr>\n",
       "  </tbody>\n",
       "</table>\n",
       "</div>"
      ],
      "text/plain": [
       "    f1   f2   f3   f4\n",
       "0  5.1  3.5  1.4  0.2\n",
       "1  4.9  3.0  1.4  0.2\n",
       "2  4.7  3.2  1.3  0.2\n",
       "3  4.6  3.1  1.5  0.2\n",
       "4  5.0  3.6  1.4  0.2"
      ]
     },
     "execution_count": 93,
     "metadata": {},
     "output_type": "execute_result"
    }
   ],
   "source": [
    "df.head()"
   ]
  },
  {
   "cell_type": "code",
   "execution_count": 103,
   "metadata": {},
   "outputs": [],
   "source": [
    "m=[]\n",
    "m= df.max()"
   ]
  },
  {
   "cell_type": "code",
   "execution_count": 104,
   "metadata": {},
   "outputs": [
    {
     "data": {
      "text/plain": [
       "f1    7.9\n",
       "f2    4.4\n",
       "f3    6.9\n",
       "f4    2.5\n",
       "dtype: float64"
      ]
     },
     "execution_count": 104,
     "metadata": {},
     "output_type": "execute_result"
    }
   ],
   "source": [
    "m"
   ]
  },
  {
   "cell_type": "code",
   "execution_count": 107,
   "metadata": {},
   "outputs": [],
   "source": [
    "l=[]\n",
    "l= df.min()"
   ]
  },
  {
   "cell_type": "code",
   "execution_count": 108,
   "metadata": {},
   "outputs": [
    {
     "data": {
      "text/plain": [
       "f1    4.3\n",
       "f2    2.0\n",
       "f3    1.0\n",
       "f4    0.1\n",
       "dtype: float64"
      ]
     },
     "execution_count": 108,
     "metadata": {},
     "output_type": "execute_result"
    }
   ],
   "source": [
    "l"
   ]
  },
  {
   "cell_type": "code",
   "execution_count": 177,
   "metadata": {},
   "outputs": [],
   "source": [
    "k=(m-l)/500"
   ]
  },
  {
   "cell_type": "code",
   "execution_count": 178,
   "metadata": {},
   "outputs": [
    {
     "data": {
      "text/plain": [
       "f1    0.0072\n",
       "f2    0.0048\n",
       "f3    0.0118\n",
       "f4    0.0048\n",
       "dtype: float64"
      ]
     },
     "execution_count": 178,
     "metadata": {},
     "output_type": "execute_result"
    }
   ],
   "source": [
    "k"
   ]
  },
  {
   "cell_type": "code",
   "execution_count": 179,
   "metadata": {},
   "outputs": [
    {
     "data": {
      "text/plain": [
       "0.007200000000000001"
      ]
     },
     "execution_count": 179,
     "metadata": {},
     "output_type": "execute_result"
    }
   ],
   "source": [
    "k[0]"
   ]
  },
  {
   "cell_type": "code",
   "execution_count": 180,
   "metadata": {},
   "outputs": [],
   "source": [
    "#a = [[0 for x in range(columns)] for y in range(rows)]\n",
    "mat = [[-1 for i in range(4)] for j in range(150)]"
   ]
  },
  {
   "cell_type": "code",
   "execution_count": 181,
   "metadata": {},
   "outputs": [
    {
     "data": {
      "text/plain": [
       "[[-1, -1, -1, -1],\n",
       " [-1, -1, -1, -1],\n",
       " [-1, -1, -1, -1],\n",
       " [-1, -1, -1, -1],\n",
       " [-1, -1, -1, -1],\n",
       " [-1, -1, -1, -1],\n",
       " [-1, -1, -1, -1],\n",
       " [-1, -1, -1, -1],\n",
       " [-1, -1, -1, -1],\n",
       " [-1, -1, -1, -1],\n",
       " [-1, -1, -1, -1],\n",
       " [-1, -1, -1, -1],\n",
       " [-1, -1, -1, -1],\n",
       " [-1, -1, -1, -1],\n",
       " [-1, -1, -1, -1],\n",
       " [-1, -1, -1, -1],\n",
       " [-1, -1, -1, -1],\n",
       " [-1, -1, -1, -1],\n",
       " [-1, -1, -1, -1],\n",
       " [-1, -1, -1, -1],\n",
       " [-1, -1, -1, -1],\n",
       " [-1, -1, -1, -1],\n",
       " [-1, -1, -1, -1],\n",
       " [-1, -1, -1, -1],\n",
       " [-1, -1, -1, -1],\n",
       " [-1, -1, -1, -1],\n",
       " [-1, -1, -1, -1],\n",
       " [-1, -1, -1, -1],\n",
       " [-1, -1, -1, -1],\n",
       " [-1, -1, -1, -1],\n",
       " [-1, -1, -1, -1],\n",
       " [-1, -1, -1, -1],\n",
       " [-1, -1, -1, -1],\n",
       " [-1, -1, -1, -1],\n",
       " [-1, -1, -1, -1],\n",
       " [-1, -1, -1, -1],\n",
       " [-1, -1, -1, -1],\n",
       " [-1, -1, -1, -1],\n",
       " [-1, -1, -1, -1],\n",
       " [-1, -1, -1, -1],\n",
       " [-1, -1, -1, -1],\n",
       " [-1, -1, -1, -1],\n",
       " [-1, -1, -1, -1],\n",
       " [-1, -1, -1, -1],\n",
       " [-1, -1, -1, -1],\n",
       " [-1, -1, -1, -1],\n",
       " [-1, -1, -1, -1],\n",
       " [-1, -1, -1, -1],\n",
       " [-1, -1, -1, -1],\n",
       " [-1, -1, -1, -1],\n",
       " [-1, -1, -1, -1],\n",
       " [-1, -1, -1, -1],\n",
       " [-1, -1, -1, -1],\n",
       " [-1, -1, -1, -1],\n",
       " [-1, -1, -1, -1],\n",
       " [-1, -1, -1, -1],\n",
       " [-1, -1, -1, -1],\n",
       " [-1, -1, -1, -1],\n",
       " [-1, -1, -1, -1],\n",
       " [-1, -1, -1, -1],\n",
       " [-1, -1, -1, -1],\n",
       " [-1, -1, -1, -1],\n",
       " [-1, -1, -1, -1],\n",
       " [-1, -1, -1, -1],\n",
       " [-1, -1, -1, -1],\n",
       " [-1, -1, -1, -1],\n",
       " [-1, -1, -1, -1],\n",
       " [-1, -1, -1, -1],\n",
       " [-1, -1, -1, -1],\n",
       " [-1, -1, -1, -1],\n",
       " [-1, -1, -1, -1],\n",
       " [-1, -1, -1, -1],\n",
       " [-1, -1, -1, -1],\n",
       " [-1, -1, -1, -1],\n",
       " [-1, -1, -1, -1],\n",
       " [-1, -1, -1, -1],\n",
       " [-1, -1, -1, -1],\n",
       " [-1, -1, -1, -1],\n",
       " [-1, -1, -1, -1],\n",
       " [-1, -1, -1, -1],\n",
       " [-1, -1, -1, -1],\n",
       " [-1, -1, -1, -1],\n",
       " [-1, -1, -1, -1],\n",
       " [-1, -1, -1, -1],\n",
       " [-1, -1, -1, -1],\n",
       " [-1, -1, -1, -1],\n",
       " [-1, -1, -1, -1],\n",
       " [-1, -1, -1, -1],\n",
       " [-1, -1, -1, -1],\n",
       " [-1, -1, -1, -1],\n",
       " [-1, -1, -1, -1],\n",
       " [-1, -1, -1, -1],\n",
       " [-1, -1, -1, -1],\n",
       " [-1, -1, -1, -1],\n",
       " [-1, -1, -1, -1],\n",
       " [-1, -1, -1, -1],\n",
       " [-1, -1, -1, -1],\n",
       " [-1, -1, -1, -1],\n",
       " [-1, -1, -1, -1],\n",
       " [-1, -1, -1, -1],\n",
       " [-1, -1, -1, -1],\n",
       " [-1, -1, -1, -1],\n",
       " [-1, -1, -1, -1],\n",
       " [-1, -1, -1, -1],\n",
       " [-1, -1, -1, -1],\n",
       " [-1, -1, -1, -1],\n",
       " [-1, -1, -1, -1],\n",
       " [-1, -1, -1, -1],\n",
       " [-1, -1, -1, -1],\n",
       " [-1, -1, -1, -1],\n",
       " [-1, -1, -1, -1],\n",
       " [-1, -1, -1, -1],\n",
       " [-1, -1, -1, -1],\n",
       " [-1, -1, -1, -1],\n",
       " [-1, -1, -1, -1],\n",
       " [-1, -1, -1, -1],\n",
       " [-1, -1, -1, -1],\n",
       " [-1, -1, -1, -1],\n",
       " [-1, -1, -1, -1],\n",
       " [-1, -1, -1, -1],\n",
       " [-1, -1, -1, -1],\n",
       " [-1, -1, -1, -1],\n",
       " [-1, -1, -1, -1],\n",
       " [-1, -1, -1, -1],\n",
       " [-1, -1, -1, -1],\n",
       " [-1, -1, -1, -1],\n",
       " [-1, -1, -1, -1],\n",
       " [-1, -1, -1, -1],\n",
       " [-1, -1, -1, -1],\n",
       " [-1, -1, -1, -1],\n",
       " [-1, -1, -1, -1],\n",
       " [-1, -1, -1, -1],\n",
       " [-1, -1, -1, -1],\n",
       " [-1, -1, -1, -1],\n",
       " [-1, -1, -1, -1],\n",
       " [-1, -1, -1, -1],\n",
       " [-1, -1, -1, -1],\n",
       " [-1, -1, -1, -1],\n",
       " [-1, -1, -1, -1],\n",
       " [-1, -1, -1, -1],\n",
       " [-1, -1, -1, -1],\n",
       " [-1, -1, -1, -1],\n",
       " [-1, -1, -1, -1],\n",
       " [-1, -1, -1, -1],\n",
       " [-1, -1, -1, -1],\n",
       " [-1, -1, -1, -1],\n",
       " [-1, -1, -1, -1],\n",
       " [-1, -1, -1, -1],\n",
       " [-1, -1, -1, -1],\n",
       " [-1, -1, -1, -1]]"
      ]
     },
     "execution_count": 181,
     "metadata": {},
     "output_type": "execute_result"
    }
   ],
   "source": [
    "mat"
   ]
  },
  {
   "cell_type": "code",
   "execution_count": 182,
   "metadata": {},
   "outputs": [],
   "source": [
    "original = df.as_matrix(columns=None)"
   ]
  },
  {
   "cell_type": "code",
   "execution_count": 205,
   "metadata": {},
   "outputs": [
    {
     "data": {
      "text/plain": [
       "array([5.4, 3.9, 1.7, 0.4])"
      ]
     },
     "execution_count": 205,
     "metadata": {},
     "output_type": "execute_result"
    }
   ],
   "source": [
    "original[5]"
   ]
  },
  {
   "cell_type": "code",
   "execution_count": null,
   "metadata": {},
   "outputs": [],
   "source": []
  },
  {
   "cell_type": "code",
   "execution_count": 184,
   "metadata": {},
   "outputs": [],
   "source": [
    "#for gene 1 only"
   ]
  },
  {
   "cell_type": "code",
   "execution_count": 185,
   "metadata": {},
   "outputs": [],
   "source": [
    "\n",
    "for i in range(150):\n",
    "    for j in range (4):\n",
    "        if original[i][j] >= original[0][j] - k[j]  and original[i][j] <= original[i][0] + k[j]:\n",
    "            mat[i][j] = 1\n",
    "        "
   ]
  },
  {
   "cell_type": "code",
   "execution_count": 186,
   "metadata": {},
   "outputs": [
    {
     "data": {
      "text/plain": [
       "[[1, 1, 1, 1],\n",
       " [-1, -1, 1, 1],\n",
       " [-1, -1, -1, 1],\n",
       " [-1, -1, 1, 1],\n",
       " [-1, 1, 1, 1],\n",
       " [1, 1, 1, 1],\n",
       " [-1, -1, 1, 1],\n",
       " [-1, -1, 1, 1],\n",
       " [-1, -1, 1, 1],\n",
       " [-1, -1, 1, -1],\n",
       " [1, 1, 1, 1],\n",
       " [-1, -1, 1, 1],\n",
       " [-1, -1, 1, -1],\n",
       " [-1, -1, -1, -1],\n",
       " [1, 1, -1, 1],\n",
       " [1, 1, 1, 1],\n",
       " [1, 1, -1, 1],\n",
       " [1, 1, 1, 1],\n",
       " [1, 1, 1, 1],\n",
       " [1, 1, 1, 1],\n",
       " [1, -1, 1, 1],\n",
       " [1, 1, 1, 1],\n",
       " [-1, 1, -1, 1],\n",
       " [1, -1, 1, 1],\n",
       " [-1, -1, 1, 1],\n",
       " [-1, -1, 1, 1],\n",
       " [-1, -1, 1, 1],\n",
       " [1, 1, 1, 1],\n",
       " [1, -1, 1, 1],\n",
       " [-1, -1, 1, 1],\n",
       " [-1, -1, 1, 1],\n",
       " [1, -1, 1, 1],\n",
       " [1, 1, 1, -1],\n",
       " [1, 1, 1, 1],\n",
       " [-1, -1, 1, -1],\n",
       " [-1, -1, -1, 1],\n",
       " [1, 1, -1, 1],\n",
       " [-1, -1, 1, -1],\n",
       " [-1, -1, -1, 1],\n",
       " [1, -1, 1, 1],\n",
       " [-1, 1, -1, 1],\n",
       " [-1, -1, -1, 1],\n",
       " [-1, -1, -1, 1],\n",
       " [-1, 1, 1, 1],\n",
       " [1, 1, 1, 1],\n",
       " [-1, -1, 1, 1],\n",
       " [1, 1, 1, 1],\n",
       " [-1, -1, 1, 1],\n",
       " [1, 1, 1, 1],\n",
       " [-1, -1, 1, 1],\n",
       " [1, -1, 1, 1],\n",
       " [1, -1, 1, 1],\n",
       " [1, -1, 1, 1],\n",
       " [1, -1, 1, 1],\n",
       " [1, -1, 1, 1],\n",
       " [1, -1, 1, 1],\n",
       " [1, -1, 1, 1],\n",
       " [-1, -1, 1, 1],\n",
       " [1, -1, 1, 1],\n",
       " [1, -1, 1, 1],\n",
       " [-1, -1, 1, 1],\n",
       " [1, -1, 1, 1],\n",
       " [1, -1, 1, 1],\n",
       " [1, -1, 1, 1],\n",
       " [1, -1, 1, 1],\n",
       " [1, -1, 1, 1],\n",
       " [1, -1, 1, 1],\n",
       " [1, -1, 1, 1],\n",
       " [1, -1, 1, 1],\n",
       " [1, -1, 1, 1],\n",
       " [1, -1, 1, 1],\n",
       " [1, -1, 1, 1],\n",
       " [1, -1, 1, 1],\n",
       " [1, -1, 1, 1],\n",
       " [1, -1, 1, 1],\n",
       " [1, -1, 1, 1],\n",
       " [1, -1, 1, 1],\n",
       " [1, -1, 1, 1],\n",
       " [1, -1, 1, 1],\n",
       " [1, -1, 1, 1],\n",
       " [1, -1, 1, 1],\n",
       " [1, -1, 1, 1],\n",
       " [1, -1, 1, 1],\n",
       " [1, -1, 1, 1],\n",
       " [1, -1, 1, 1],\n",
       " [1, -1, 1, 1],\n",
       " [1, -1, 1, 1],\n",
       " [1, -1, 1, 1],\n",
       " [1, -1, 1, 1],\n",
       " [1, -1, 1, 1],\n",
       " [1, -1, 1, 1],\n",
       " [1, -1, 1, 1],\n",
       " [1, -1, 1, 1],\n",
       " [-1, -1, 1, 1],\n",
       " [1, -1, 1, 1],\n",
       " [1, -1, 1, 1],\n",
       " [1, -1, 1, 1],\n",
       " [1, -1, 1, 1],\n",
       " [1, -1, 1, 1],\n",
       " [1, -1, 1, 1],\n",
       " [1, -1, 1, 1],\n",
       " [1, -1, 1, 1],\n",
       " [1, -1, 1, 1],\n",
       " [1, -1, 1, 1],\n",
       " [1, -1, 1, 1],\n",
       " [1, -1, 1, 1],\n",
       " [-1, -1, 1, 1],\n",
       " [1, -1, 1, 1],\n",
       " [1, -1, 1, 1],\n",
       " [1, 1, 1, 1],\n",
       " [1, -1, 1, 1],\n",
       " [1, -1, 1, 1],\n",
       " [1, -1, 1, 1],\n",
       " [1, -1, 1, 1],\n",
       " [1, -1, 1, 1],\n",
       " [1, -1, 1, 1],\n",
       " [1, -1, 1, 1],\n",
       " [1, 1, 1, 1],\n",
       " [1, -1, 1, 1],\n",
       " [1, -1, 1, 1],\n",
       " [1, -1, 1, 1],\n",
       " [1, -1, 1, 1],\n",
       " [1, -1, 1, 1],\n",
       " [1, -1, 1, 1],\n",
       " [1, -1, 1, 1],\n",
       " [1, -1, 1, 1],\n",
       " [1, -1, 1, 1],\n",
       " [1, -1, 1, 1],\n",
       " [1, -1, 1, 1],\n",
       " [1, -1, 1, 1],\n",
       " [1, -1, 1, 1],\n",
       " [1, 1, 1, 1],\n",
       " [1, -1, 1, 1],\n",
       " [1, -1, 1, 1],\n",
       " [1, -1, 1, 1],\n",
       " [1, -1, 1, 1],\n",
       " [1, -1, 1, 1],\n",
       " [1, -1, 1, 1],\n",
       " [1, -1, 1, 1],\n",
       " [1, -1, 1, 1],\n",
       " [1, -1, 1, 1],\n",
       " [1, -1, 1, 1],\n",
       " [1, -1, 1, 1],\n",
       " [1, -1, 1, 1],\n",
       " [1, -1, 1, 1],\n",
       " [1, -1, 1, 1],\n",
       " [1, -1, 1, 1],\n",
       " [1, -1, 1, 1],\n",
       " [1, -1, 1, 1],\n",
       " [1, -1, 1, 1]]"
      ]
     },
     "execution_count": 186,
     "metadata": {},
     "output_type": "execute_result"
    }
   ],
   "source": [
    "mat"
   ]
  },
  {
   "cell_type": "code",
   "execution_count": 187,
   "metadata": {},
   "outputs": [],
   "source": [
    "#for all genes"
   ]
  },
  {
   "cell_type": "code",
   "execution_count": 188,
   "metadata": {},
   "outputs": [],
   "source": [
    "\n",
    "distance1 = [[[(str(i)+\" \"+str(j)+\" \"+str(k)) for k in range(4)] for j in range(5)] for i in range(2)]"
   ]
  },
  {
   "cell_type": "code",
   "execution_count": 189,
   "metadata": {},
   "outputs": [
    {
     "data": {
      "text/plain": [
       "[[['0 0 0', '0 0 1', '0 0 2', '0 0 3'],\n",
       "  ['0 1 0', '0 1 1', '0 1 2', '0 1 3'],\n",
       "  ['0 2 0', '0 2 1', '0 2 2', '0 2 3'],\n",
       "  ['0 3 0', '0 3 1', '0 3 2', '0 3 3'],\n",
       "  ['0 4 0', '0 4 1', '0 4 2', '0 4 3']],\n",
       " [['1 0 0', '1 0 1', '1 0 2', '1 0 3'],\n",
       "  ['1 1 0', '1 1 1', '1 1 2', '1 1 3'],\n",
       "  ['1 2 0', '1 2 1', '1 2 2', '1 2 3'],\n",
       "  ['1 3 0', '1 3 1', '1 3 2', '1 3 3'],\n",
       "  ['1 4 0', '1 4 1', '1 4 2', '1 4 3']]]"
      ]
     },
     "execution_count": 189,
     "metadata": {},
     "output_type": "execute_result"
    }
   ],
   "source": [
    "distance1"
   ]
  },
  {
   "cell_type": "code",
   "execution_count": 190,
   "metadata": {},
   "outputs": [],
   "source": [
    "dist = [[[0 for k1 in range(4)] for j in range(150)] for i in range(150)]"
   ]
  },
  {
   "cell_type": "code",
   "execution_count": 191,
   "metadata": {},
   "outputs": [],
   "source": [
    "#k1 traverses through each gene as g1, g2,..\n",
    "#i traverses through individual gene as g11, g12 or correlation with g1 \n",
    "#j is for the different parameters\n",
    "\n",
    "for k1 in range (150):    \n",
    "    for i in range(150):\n",
    "        for j in range (4):\n",
    "            if original[i][j] >= original[k1][j] - k[j]  and original[i][j] <= original[i][0] + k[j]:\n",
    "                dist[k1][i][j] = 1\n",
    " \n"
   ]
  },
  {
   "cell_type": "code",
   "execution_count": 204,
   "metadata": {},
   "outputs": [
    {
     "data": {
      "text/plain": [
       "[0, 0, 1, 1]"
      ]
     },
     "execution_count": 204,
     "metadata": {},
     "output_type": "execute_result"
    }
   ],
   "source": [
    "dist[0][1]"
   ]
  },
  {
   "cell_type": "code",
   "execution_count": 206,
   "metadata": {},
   "outputs": [],
   "source": [
    "tot_clu =[]\n",
    "for i in range(len(dist)) :\n",
    "    point_clu = []\n",
    "    for j in range(len(dist[i])):\n",
    "        if np.sum(dist[i][j]) == 4 :\n",
    "            point_clu.append(original[j])\n",
    "    tot_clu.append(point_clu)\n",
    "\n",
    "\n"
   ]
  },
  {
   "cell_type": "code",
   "execution_count": 211,
   "metadata": {},
   "outputs": [
    {
     "data": {
      "text/plain": [
       "48"
      ]
     },
     "execution_count": 211,
     "metadata": {},
     "output_type": "execute_result"
    }
   ],
   "source": [
    "len(tot_clu[2])"
   ]
  },
  {
   "cell_type": "code",
   "execution_count": null,
   "metadata": {},
   "outputs": [],
   "source": []
  }
 ],
 "metadata": {
  "kernelspec": {
   "display_name": "Python 3",
   "language": "python",
   "name": "python3"
  },
  "language_info": {
   "codemirror_mode": {
    "name": "ipython",
    "version": 3
   },
   "file_extension": ".py",
   "mimetype": "text/x-python",
   "name": "python",
   "nbconvert_exporter": "python",
   "pygments_lexer": "ipython3",
   "version": "3.6.5"
  }
 },
 "nbformat": 4,
 "nbformat_minor": 2
}
