{
 "cells": [
  {
   "cell_type": "code",
   "execution_count": 1,
   "metadata": {},
   "outputs": [],
   "source": [
    "import math"
   ]
  },
  {
   "cell_type": "code",
   "execution_count": 2,
   "metadata": {},
   "outputs": [],
   "source": [
    "class Vector(object):\n",
    "\n",
    "    def __init__(self, components):\n",
    "        if not isinstance(components, tuple) and not isinstance(components, list):\n",
    "            raise ValueError(\"Components must be a tuple or list.\")\n",
    "        if len(components) == 0:\n",
    "            raise ValueError(\"Components must be at least 1-dimensional.\")\n",
    "        self.dimensions = len(components)\n",
    "        self.components = components\n",
    "\n",
    "    def __getitem__(self, key):\n",
    "        return self.components[key]\n",
    "\n",
    "    def __str__(self):\n",
    "        return self.components.__str__()\n",
    "\n",
    "    def __len__(self):\n",
    "        return self.dimensions"
   ]
  },
  {
   "cell_type": "code",
   "execution_count": 3,
   "metadata": {},
   "outputs": [],
   "source": [
    "def dist(v1, v2):\n",
    "    return math.sqrt(cheap_dist(v1,v2))"
   ]
  },
  {
   "cell_type": "code",
   "execution_count": 4,
   "metadata": {},
   "outputs": [],
   "source": [
    "def cheap_dist(v1, v2):\n",
    "    comps1 = v1.components\n",
    "    comps2 = v2.components\n",
    "    max_dimensions = max(v1.dimensions, v2.dimensions)\n",
    "    dist = 0.0\n",
    "    for i in range(0, max_dimensions):\n",
    "        dist += math.pow(v1[i]-v2[i] , 2)\n",
    "    return dist"
   ]
  },
  {
   "cell_type": "code",
   "execution_count": 5,
   "metadata": {},
   "outputs": [],
   "source": [
    "from math import floor\n",
    "import random\n",
    "from collections import defaultdict\n",
    "import itertools"
   ]
  },
  {
   "cell_type": "code",
   "execution_count": 15,
   "metadata": {},
   "outputs": [],
   "source": [
    "def closest_pair(points):\n",
    "\n",
    "    dimensions = max(map(lambda x: len(x), points))\n",
    "\n",
    "    s = points[:2]\n",
    "    delta_x = dist(s[0], s[1])\n",
    "    pair = [s[0], s[1]]\n",
    "    grid = Grid(s, delta_x, dimensions)\n",
    "\n",
    "    for i in range(2, len(points)-1):\n",
    "\n",
    "        # construct s_i\n",
    "        s.append(points[i])\n",
    "\n",
    "        # get points in the neighbourhood of points[i]\n",
    "        neighbours = [vector for vector in grid.neighbourhood(points[i])]\n",
    "\n",
    "        # get smallest distance in that neighbourhood\n",
    "        min = None\n",
    "        min_pair = None\n",
    "        for pt in neighbours:\n",
    "            d = dist(pt, points[i])\n",
    "            if min == None or d < min:\n",
    "                min = d\n",
    "                min_pair = (pt, points[i])\n",
    "\n",
    "        # was that distance smaller than delta_x?\n",
    "        if min != None and min < delta_x:\n",
    "            delta_x = min\n",
    "            pair = min_pair\n",
    "            grid = Grid(s, delta_x, dimensions)\n",
    "        else:\n",
    "            grid.insert(points[i])\n",
    "\n",
    "    return pair\n",
    "\n"
   ]
  },
  {
   "cell_type": "code",
   "execution_count": 7,
   "metadata": {},
   "outputs": [],
   "source": []
  },
  {
   "cell_type": "code",
   "execution_count": 8,
   "metadata": {},
   "outputs": [],
   "source": [
    "class Mdict():\n",
    "\n",
    "    def __init__(self, depth):\n",
    "        self.depth = depth\n",
    "        tree = lambda x: defaultdict(list) if x == 1 else defaultdict(lambda: tree(x-1))\n",
    "        self.map = tree(depth)\n",
    "\n",
    "    def __getitem__(self, vector):\n",
    "        return self.retrieve(self.map, vector, 0, len(vector)-1)\n",
    "\n",
    "    def retrieve(self, map, vector, i, stop):\n",
    "        if i == stop:\n",
    "            return map[vector[i]]\n",
    "        else:\n",
    "            return self.retrieve(map[vector[i]], vector, i+1, stop)"
   ]
  },
  {
   "cell_type": "code",
   "execution_count": 21,
   "metadata": {},
   "outputs": [
    {
     "name": "stdout",
     "output_type": "stream",
     "text": [
      "<__main__.Grid object at 0x7f7db434c630>\n",
      "<__main__.Grid object at 0x7f7db434c6a0>\n",
      "<__main__.Grid object at 0x7f7db434c6a0>\n",
      "6\n",
      "5\n",
      "[230, 423, 150, 2, 180]\n"
     ]
    }
   ],
   "source": [
    "pts = [\n",
    "        Vector([4,3,16,5,5]),\n",
    "        Vector([230,423,150,2,180]),\n",
    "        Vector([123,500,400,302,405]),\n",
    "        Vector([6,4,10,8,105]),\n",
    "        Vector([123,432,432,8,451]),\n",
    "        Vector([14,113,116,51,51])\n",
    "    ]\n",
    "pair = closest_pair(pts)\n",
    "dimensions = max(map(lambda x: len(x), pts))\n",
    "l=len(pts)\n",
    "print(l)\n",
    "print(dimensions)\n",
    "print(pair[1])"
   ]
  },
  {
   "cell_type": "code",
   "execution_count": 12,
   "metadata": {},
   "outputs": [
    {
     "data": {
      "text/plain": [
       "100.2496882788171"
      ]
     },
     "execution_count": 12,
     "metadata": {},
     "output_type": "execute_result"
    }
   ],
   "source": [
    "dist(pair[0],pair[1])"
   ]
  },
  {
   "cell_type": "code",
   "execution_count": 47,
   "metadata": {},
   "outputs": [],
   "source": [
    "m=[[0 for j in range(l)] for i in range(l)]\n",
    "\n",
    "for i in range(l):\n",
    "    for j in range(l):\n",
    "        if (i==j):\n",
    "            m[i][j]=0.0\n",
    "        if (i>j):\n",
    "            m[i][j] = -1.0\n",
    "        else:\n",
    "            m[i][j]=int(dist(pts[i],pts[j]))\n",
    "        \n",
    "        "
   ]
  },
  {
   "cell_type": "code",
   "execution_count": 48,
   "metadata": {},
   "outputs": [
    {
     "data": {
      "text/plain": [
       "[[0, 525, 810, 100, 755, 162],\n",
       " [-1.0, 0, 469, 500, 405, 403],\n",
       " [-1.0, -1.0, 0, 766, 306, 656],\n",
       " [-1.0, -1.0, -1.0, 0, 703, 167],\n",
       " [-1.0, -1.0, -1.0, -1.0, 0, 612],\n",
       " [-1.0, -1.0, -1.0, -1.0, -1.0, 0]]"
      ]
     },
     "execution_count": 48,
     "metadata": {},
     "output_type": "execute_result"
    }
   ],
   "source": [
    "m"
   ]
  },
  {
   "cell_type": "code",
   "execution_count": 49,
   "metadata": {},
   "outputs": [],
   "source": [
    "n  = 6\n",
    "mat_n = [[-1 for j in range(n)] for i in range(n)]"
   ]
  },
  {
   "cell_type": "code",
   "execution_count": 50,
   "metadata": {},
   "outputs": [
    {
     "data": {
      "text/plain": [
       "6"
      ]
     },
     "execution_count": 50,
     "metadata": {},
     "output_type": "execute_result"
    }
   ],
   "source": [
    "len(mat_n)"
   ]
  },
  {
   "cell_type": "code",
   "execution_count": 51,
   "metadata": {},
   "outputs": [],
   "source": [
    "for i in range(len(mat_n)):\n",
    "    for j in range (i,len(mat_n)):\n",
    "        mat_n[i][j] = int(dist(pts[i],pts[j]))\n",
    "        "
   ]
  },
  {
   "cell_type": "code",
   "execution_count": 52,
   "metadata": {},
   "outputs": [
    {
     "data": {
      "text/plain": [
       "[[0, 525, 810, 100, 755, 162],\n",
       " [-1, 0, 469, 500, 405, 403],\n",
       " [-1, -1, 0, 766, 306, 656],\n",
       " [-1, -1, -1, 0, 703, 167],\n",
       " [-1, -1, -1, -1, 0, 612],\n",
       " [-1, -1, -1, -1, -1, 0]]"
      ]
     },
     "execution_count": 52,
     "metadata": {},
     "output_type": "execute_result"
    }
   ],
   "source": [
    "mat_n"
   ]
  },
  {
   "cell_type": "code",
   "execution_count": null,
   "metadata": {},
   "outputs": [],
   "source": []
  }
 ],
 "metadata": {
  "kernelspec": {
   "display_name": "Python 3",
   "language": "python",
   "name": "python3"
  },
  "language_info": {
   "codemirror_mode": {
    "name": "ipython",
    "version": 3
   },
   "file_extension": ".py",
   "mimetype": "text/x-python",
   "name": "python",
   "nbconvert_exporter": "python",
   "pygments_lexer": "ipython3",
   "version": "3.6.5"
  }
 },
 "nbformat": 4,
 "nbformat_minor": 2
}
