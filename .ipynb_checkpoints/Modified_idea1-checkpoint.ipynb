{
 "cells": [
  {
   "cell_type": "code",
   "execution_count": 22,
   "metadata": {},
   "outputs": [],
   "source": [
    "import numpy as np\n",
    "import pandas as pd\n",
    "from csv import reader\n",
    "import math\n",
    "from math import floor\n",
    "import random\n",
    "from collections import defaultdict\n",
    "import itertools"
   ]
  },
  {
   "cell_type": "code",
   "execution_count": 5,
   "metadata": {},
   "outputs": [
    {
     "name": "stdout",
     "output_type": "stream",
     "text": [
      "closest.py\t\tiris.ipynb   Untitled1.ipynb  vectors.py\r\n",
      "dlbcl_preprocessed.txt\t__pycache__  Untitled2.ipynb\r\n",
      "iris-dataset.csv\tREADME.md    Untitled.ipynb\r\n"
     ]
    }
   ],
   "source": [
    "!ls"
   ]
  },
  {
   "cell_type": "code",
   "execution_count": 26,
   "metadata": {},
   "outputs": [],
   "source": [
    "with open('dlbcl_preprocessed.txt', newline='') as db:\n",
    "    data = list(reader(db, delimiter=' '))"
   ]
  },
  {
   "cell_type": "code",
   "execution_count": 19,
   "metadata": {},
   "outputs": [],
   "source": [
    "#test\n",
    "\n",
    "pp = []\n",
    "for x in data[0][1:] :\n",
    "    pp.append(float(x))"
   ]
  },
  {
   "cell_type": "code",
   "execution_count": 21,
   "metadata": {},
   "outputs": [
    {
     "data": {
      "text/plain": [
       "77"
      ]
     },
     "execution_count": 21,
     "metadata": {},
     "output_type": "execute_result"
    }
   ],
   "source": [
    "#test\n",
    "\n",
    "len(pp)"
   ]
  },
  {
   "cell_type": "code",
   "execution_count": 44,
   "metadata": {},
   "outputs": [
    {
     "data": {
      "text/plain": [
       "2648"
      ]
     },
     "execution_count": 44,
     "metadata": {},
     "output_type": "execute_result"
    }
   ],
   "source": [
    "len(data)"
   ]
  },
  {
   "cell_type": "code",
   "execution_count": null,
   "metadata": {},
   "outputs": [],
   "source": []
  },
  {
   "cell_type": "code",
   "execution_count": 23,
   "metadata": {},
   "outputs": [],
   "source": [
    "#Returns a Vector from a list\n",
    "\n",
    "class Vector(object):\n",
    "\n",
    "    def __init__(self, components):\n",
    "        if not isinstance(components, tuple) and not isinstance(components, list):\n",
    "            raise ValueError(\"Components must be a tuple or list.\")\n",
    "        if len(components) == 0:\n",
    "            raise ValueError(\"Components must be at least 1-dimensional.\")\n",
    "        self.dimensions = len(components)\n",
    "        self.components = components\n",
    "\n",
    "    def __getitem__(self, key):\n",
    "        return self.components[key]\n",
    "\n",
    "    def __str__(self):\n",
    "        return self.components.__str__()\n",
    "\n",
    "    def __len__(self):\n",
    "        return self.dimensions"
   ]
  },
  {
   "cell_type": "code",
   "execution_count": 24,
   "metadata": {},
   "outputs": [],
   "source": [
    "# Measures square of euclidian distance for a nD vector\n",
    "\n",
    "def cheap_dist(v1, v2):\n",
    "    comps1 = v1.components\n",
    "    comps2 = v2.components\n",
    "    max_dimensions = max(v1.dimensions, v2.dimensions)\n",
    "    dist = 0.0\n",
    "    for i in range(0, max_dimensions):\n",
    "        dist += math.pow(v1[i]-v2[i] , 2)\n",
    "    return dist"
   ]
  },
  {
   "cell_type": "code",
   "execution_count": 25,
   "metadata": {},
   "outputs": [],
   "source": [
    "# Measures euclidian distance for a nD vector\n",
    "\n",
    "def dist(v1, v2):\n",
    "    return math.sqrt(cheap_dist(v1,v2))"
   ]
  },
  {
   "cell_type": "code",
   "execution_count": 33,
   "metadata": {},
   "outputs": [],
   "source": [
    "#prepare the dataset\n",
    "\n",
    "dataset = []\n",
    "for i in range(len(data)):\n",
    "    temp = []\n",
    "    for x in data[i][1:]:\n",
    "        temp.append(float(x))\n",
    "    vec = Vector(temp)\n",
    "    dataset.append(vec)"
   ]
  },
  {
   "cell_type": "code",
   "execution_count": 28,
   "metadata": {},
   "outputs": [
    {
     "data": {
      "text/plain": [
       "2648"
      ]
     },
     "execution_count": 28,
     "metadata": {},
     "output_type": "execute_result"
    }
   ],
   "source": [
    "len(dataset)"
   ]
  },
  {
   "cell_type": "code",
   "execution_count": 32,
   "metadata": {},
   "outputs": [
    {
     "data": {
      "text/plain": [
       "77"
      ]
     },
     "execution_count": 32,
     "metadata": {},
     "output_type": "execute_result"
    }
   ],
   "source": [
    "len(dataset[500])"
   ]
  },
  {
   "cell_type": "code",
   "execution_count": 31,
   "metadata": {},
   "outputs": [
    {
     "data": {
      "text/plain": [
       "[766.641437876155,\n",
       " 773.865121153866,\n",
       " 1405.57817931367,\n",
       " 998.368320636513,\n",
       " 1196.41036796559,\n",
       " 877.489565563797,\n",
       " 985.997191139054,\n",
       " 797.388033374492,\n",
       " 1325.26820413436,\n",
       " 1384.82630574008,\n",
       " 539.306852819903,\n",
       " 997.022693642144,\n",
       " 1112.144792801,\n",
       " 963.666662443958,\n",
       " 942.683469135425,\n",
       " 800.883724097366,\n",
       " 706.682697916195,\n",
       " 759.055352604078,\n",
       " 1058.60667487167,\n",
       " 900.632105415155,\n",
       " 837.664437873338,\n",
       " 1140.26521632098,\n",
       " 957.09749281082,\n",
       " 956.103611243227,\n",
       " 848.932452103465,\n",
       " 773.566418876966,\n",
       " 1425.31125120256,\n",
       " 693.084990545558,\n",
       " 1352.71599002224,\n",
       " 894.452114646232,\n",
       " 980.131085801716,\n",
       " 968.549246714021,\n",
       " 869.053325934099,\n",
       " 1055.55462230043,\n",
       " 1143.5619044791,\n",
       " 957.411288317887,\n",
       " 992.661930760229,\n",
       " 1107.60911637902,\n",
       " 1161.56808898379,\n",
       " 866.115417823545,\n",
       " 685.920514560854,\n",
       " 902.247952120198,\n",
       " 981.48509264972,\n",
       " 1059.13842064053,\n",
       " 937.389765775456,\n",
       " 1424.54557950785,\n",
       " 1085.64714855406,\n",
       " 656.667370272623,\n",
       " 1023.16908305262,\n",
       " 790.604641570715,\n",
       " 668.799688646715,\n",
       " 850.298999973666,\n",
       " 784.786042104293,\n",
       " 895.014918375725,\n",
       " 877.084633787778,\n",
       " 1226.43258023282,\n",
       " 1706.51470241443,\n",
       " 1130.15360329678,\n",
       " 995.39913333407,\n",
       " 997.584158544916,\n",
       " 1354.86208305511,\n",
       " 753.261718666336,\n",
       " 893.586670058582,\n",
       " 1239.56178312949,\n",
       " 774.833402730176,\n",
       " 948.911784829958,\n",
       " 2690.76962764303,\n",
       " 616.894256804248,\n",
       " 1239.57638213153,\n",
       " 964.218278319966,\n",
       " 768.828127426477,\n",
       " 695.573655101601,\n",
       " 715.334712241323,\n",
       " 1469.58255233734,\n",
       " 773.449717662094,\n",
       " 1051.38551962758,\n",
       " 1002.14798186779]"
      ]
     },
     "execution_count": 31,
     "metadata": {},
     "output_type": "execute_result"
    }
   ],
   "source": [
    "dataset[0].components"
   ]
  },
  {
   "cell_type": "code",
   "execution_count": 48,
   "metadata": {},
   "outputs": [],
   "source": [
    "\n",
    "\n",
    "\n",
    "def dist_matrix(points) : \n",
    "    n  = len(points)\n",
    "    max_dist = 0.0\n",
    "    min_dist = 10000000\n",
    "    dist_mat = [[-1 for j in range(n)] for i in range(n)]\n",
    "    for i in range(len(dist_mat)):\n",
    "        for j in range (i+1,len(dist_mat)):\n",
    "            dist_mat[i][j] = dist(points[i],points[j])\n",
    "            if dist_mat[i][j] >= max_dist and dist_mat[i][j] > 0.0 :\n",
    "                max_dist = dist_mat[i][j]\n",
    "            elif dist_mat[i][j] <= min_dist :\n",
    "                min_dist = dist_mat[i][j]\n",
    "                \n",
    "    return dist_mat,max_dist,min_dist\n",
    "    \n",
    "    "
   ]
  },
  {
   "cell_type": "code",
   "execution_count": 49,
   "metadata": {},
   "outputs": [
    {
     "name": "stdout",
     "output_type": "stream",
     "text": [
      "CPU times: user 2min 28s, sys: 72 ms, total: 2min 28s\n",
      "Wall time: 2min 28s\n"
     ]
    }
   ],
   "source": [
    "%%time\n",
    "matrix, max_dist, min_dist = dist_matrix(dataset)"
   ]
  },
  {
   "cell_type": "code",
   "execution_count": 50,
   "metadata": {},
   "outputs": [
    {
     "data": {
      "text/plain": [
       "138495.80726704744"
      ]
     },
     "execution_count": 50,
     "metadata": {},
     "output_type": "execute_result"
    }
   ],
   "source": [
    "max_dist"
   ]
  },
  {
   "cell_type": "code",
   "execution_count": 40,
   "metadata": {},
   "outputs": [
    {
     "data": {
      "text/plain": [
       "399.30747850449774"
      ]
     },
     "execution_count": 40,
     "metadata": {},
     "output_type": "execute_result"
    }
   ],
   "source": [
    "min_dist"
   ]
  },
  {
   "cell_type": "code",
   "execution_count": 47,
   "metadata": {},
   "outputs": [
    {
     "name": "stdout",
     "output_type": "stream",
     "text": [
      "Number of genes = 2648\n",
      "Number of features = 77\n"
     ]
    }
   ],
   "source": [
    "print(\"Number of genes = {}\".format(len(matrix)))\n",
    "print(\"Number of features = {}\".format(len(dataset[0])))"
   ]
  },
  {
   "cell_type": "code",
   "execution_count": 56,
   "metadata": {},
   "outputs": [],
   "source": [
    "alpha = 15\n",
    "th_dist = (max_dist - min_dist)/alpha"
   ]
  },
  {
   "cell_type": "code",
   "execution_count": 57,
   "metadata": {},
   "outputs": [
    {
     "data": {
      "text/plain": [
       "9206.433319236197"
      ]
     },
     "execution_count": 57,
     "metadata": {},
     "output_type": "execute_result"
    }
   ],
   "source": [
    "th_dist"
   ]
  },
  {
   "cell_type": "code",
   "execution_count": 59,
   "metadata": {},
   "outputs": [
    {
     "name": "stdout",
     "output_type": "stream",
     "text": [
      "CPU times: user 666 ms, sys: 4 ms, total: 670 ms\n",
      "Wall time: 670 ms\n"
     ]
    }
   ],
   "source": [
    "%%time\n",
    "\n",
    "tot_clu = []\n",
    "for i in range(len(matrix)) :\n",
    "    point_clu = []\n",
    "    for j in range(i+1, len(matrix)) :\n",
    "        if matrix[i][j] < th_dist :\n",
    "            point_clu.append(dataset[j])\n",
    "    tot_clu.append(point_clu)\n",
    "    "
   ]
  },
  {
   "cell_type": "code",
   "execution_count": 84,
   "metadata": {},
   "outputs": [
    {
     "data": {
      "text/plain": [
       "1001"
      ]
     },
     "execution_count": 84,
     "metadata": {},
     "output_type": "execute_result"
    }
   ],
   "source": [
    "len(list(set(tot_clu[500]).intersection(tot_clu[600])))\n"
   ]
  },
  {
   "cell_type": "code",
   "execution_count": 85,
   "metadata": {},
   "outputs": [
    {
     "data": {
      "text/plain": [
       "1001"
      ]
     },
     "execution_count": 85,
     "metadata": {},
     "output_type": "execute_result"
    }
   ],
   "source": [
    "len(list(set(tot_clu[500]) & set(tot_clu[600])))"
   ]
  },
  {
   "cell_type": "code",
   "execution_count": 87,
   "metadata": {},
   "outputs": [
    {
     "data": {
      "text/plain": [
       "1602"
      ]
     },
     "execution_count": 87,
     "metadata": {},
     "output_type": "execute_result"
    }
   ],
   "source": [
    "len(tot_clu[0])"
   ]
  },
  {
   "cell_type": "code",
   "execution_count": 88,
   "metadata": {},
   "outputs": [
    {
     "data": {
      "text/plain": [
       "1370"
      ]
     },
     "execution_count": 88,
     "metadata": {},
     "output_type": "execute_result"
    }
   ],
   "source": [
    "len(tot_clu[1])"
   ]
  },
  {
   "cell_type": "code",
   "execution_count": 116,
   "metadata": {},
   "outputs": [],
   "source": [
    "# Modified QuickSort\n",
    "# Given a set of clustures, sorts according to the length of clustures\n",
    "\n",
    "\n",
    "def partition(arr,low,high): \n",
    "    i = ( low-1 )         # index of smaller element \n",
    "    pivot = arr[high]     # pivot \n",
    "  \n",
    "    for j in range(low , high): \n",
    "  \n",
    "        # If current element is smaller than or \n",
    "        # equal to pivot \n",
    "        if   len(arr[j]) <= len(pivot) : \n",
    "          \n",
    "            # increment index of smaller element \n",
    "            i = i+1 \n",
    "            arr[i],arr[j] = arr[j],arr[i] \n",
    "  \n",
    "    arr[i+1],arr[high] = arr[high],arr[i+1] \n",
    "    return ( i+1 ) \n",
    "  \n",
    "# The main function that implements QuickSort \n",
    "# arr[] --> Array to be sorted, \n",
    "# low  --> Starting index, \n",
    "# high  --> Ending index \n",
    "  \n",
    "# Function to do Quick sort \n",
    "def quickSort(arr,low,high): \n",
    "    if low < high: \n",
    "  \n",
    "        # pi is partitioning index, arr[p] is now \n",
    "        # at right place \n",
    "        pi = partition(arr,low,high) \n",
    "  \n",
    "        # Separately sort elements before \n",
    "        # partition and after partition \n",
    "        quickSort(arr, low, pi-1) \n",
    "        quickSort(arr, pi+1, high) "
   ]
  },
  {
   "cell_type": "code",
   "execution_count": 117,
   "metadata": {},
   "outputs": [],
   "source": [
    "test = tot_clu"
   ]
  },
  {
   "cell_type": "code",
   "execution_count": 118,
   "metadata": {},
   "outputs": [
    {
     "name": "stdout",
     "output_type": "stream",
     "text": [
      "CPU times: user 148 ms, sys: 1 µs, total: 148 ms\n",
      "Wall time: 147 ms\n"
     ]
    }
   ],
   "source": [
    "%%time\n",
    "\n",
    "n = len(test) \n",
    "quickSort(test,0,n-1) "
   ]
  },
  {
   "cell_type": "code",
   "execution_count": 119,
   "metadata": {},
   "outputs": [],
   "source": [
    "test.reverse()"
   ]
  },
  {
   "cell_type": "code",
   "execution_count": 123,
   "metadata": {},
   "outputs": [
    {
     "data": {
      "text/plain": [
       "1685"
      ]
     },
     "execution_count": 123,
     "metadata": {},
     "output_type": "execute_result"
    }
   ],
   "source": [
    "len(test[3])"
   ]
  },
  {
   "cell_type": "code",
   "execution_count": 124,
   "metadata": {},
   "outputs": [
    {
     "data": {
      "text/plain": [
       "2648"
      ]
     },
     "execution_count": 124,
     "metadata": {},
     "output_type": "execute_result"
    }
   ],
   "source": [
    "len(test)"
   ]
  },
  {
   "cell_type": "code",
   "execution_count": 125,
   "metadata": {},
   "outputs": [
    {
     "data": {
      "text/plain": [
       "[]"
      ]
     },
     "execution_count": 125,
     "metadata": {},
     "output_type": "execute_result"
    }
   ],
   "source": [
    "test[-1]"
   ]
  },
  {
   "cell_type": "code",
   "execution_count": 133,
   "metadata": {},
   "outputs": [],
   "source": [
    "# removes the empty sets\n",
    "\n",
    "list2 = [x for x in test if x]"
   ]
  },
  {
   "cell_type": "code",
   "execution_count": 134,
   "metadata": {},
   "outputs": [
    {
     "data": {
      "text/plain": [
       "2202"
      ]
     },
     "execution_count": 134,
     "metadata": {},
     "output_type": "execute_result"
    }
   ],
   "source": [
    "len(list2)"
   ]
  },
  {
   "cell_type": "code",
   "execution_count": 135,
   "metadata": {},
   "outputs": [
    {
     "data": {
      "text/plain": [
       "[<__main__.Vector at 0x7fb244f85860>]"
      ]
     },
     "execution_count": 135,
     "metadata": {},
     "output_type": "execute_result"
    }
   ],
   "source": [
    "list2[-1]"
   ]
  },
  {
   "cell_type": "code",
   "execution_count": 137,
   "metadata": {},
   "outputs": [],
   "source": [
    "#extent of similarity between two sets\n",
    "\n",
    "simi_th = 0.9"
   ]
  },
  {
   "cell_type": "code",
   "execution_count": 139,
   "metadata": {},
   "outputs": [],
   "source": [
    "clu = []\n",
    "clu.append(list2[0])\n",
    "for i in range(1,len(list2)):\n",
    "    clu_new = list2[i]\n",
    "    common_elements = list(set(clu[-1]) & set(clu_new))\n",
    "    simi = len(common_elements)/len(clu_new)\n",
    "    if simi < simi_th :\n",
    "        clu.append(clu_new)\n",
    "    \n",
    "    "
   ]
  },
  {
   "cell_type": "code",
   "execution_count": 140,
   "metadata": {},
   "outputs": [
    {
     "data": {
      "text/plain": [
       "1605"
      ]
     },
     "execution_count": 140,
     "metadata": {},
     "output_type": "execute_result"
    }
   ],
   "source": [
    "len(clu)"
   ]
  },
  {
   "cell_type": "code",
   "execution_count": null,
   "metadata": {},
   "outputs": [],
   "source": []
  }
 ],
 "metadata": {
  "kernelspec": {
   "display_name": "Python 3",
   "language": "python",
   "name": "python3"
  },
  "language_info": {
   "codemirror_mode": {
    "name": "ipython",
    "version": 3
   },
   "file_extension": ".py",
   "mimetype": "text/x-python",
   "name": "python",
   "nbconvert_exporter": "python",
   "pygments_lexer": "ipython3",
   "version": "3.6.5"
  }
 },
 "nbformat": 4,
 "nbformat_minor": 2
}
